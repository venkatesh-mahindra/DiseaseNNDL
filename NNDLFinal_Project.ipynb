{
  "cells": [
    {
      "cell_type": "code",
      "execution_count": 1,
      "metadata": {
        "id": "d7r6dRYxSZui"
      },
      "outputs": [
        {
          "ename": "ModuleNotFoundError",
          "evalue": "No module named 'google.colab'",
          "output_type": "error",
          "traceback": [
            "\u001b[1;31m---------------------------------------------------------------------------\u001b[0m",
            "\u001b[1;31mModuleNotFoundError\u001b[0m                       Traceback (most recent call last)",
            "Cell \u001b[1;32mIn[1], line 1\u001b[0m\n\u001b[1;32m----> 1\u001b[0m \u001b[38;5;28;01mfrom\u001b[39;00m \u001b[38;5;21;01mgoogle\u001b[39;00m\u001b[38;5;21;01m.\u001b[39;00m\u001b[38;5;21;01mcolab\u001b[39;00m \u001b[38;5;28;01mimport\u001b[39;00m files\n",
            "\u001b[1;31mModuleNotFoundError\u001b[0m: No module named 'google.colab'"
          ]
        }
      ],
      "source": [
        "from google.colab import files"
      ]
    },
    {
      "cell_type": "code",
      "execution_count": null,
      "metadata": {
        "colab": {
          "base_uri": "https://localhost:8080/",
          "height": 73
        },
        "id": "xlrKIWKtS2Cp",
        "outputId": "5f554d1e-2b62-4d6a-dbdf-e733696dbb54"
      },
      "outputs": [
        {
          "data": {
            "text/html": [
              "\n",
              "     <input type=\"file\" id=\"files-c5ed7537-6cd2-459f-a4a4-f61a930d4dad\" name=\"files[]\" multiple disabled\n",
              "        style=\"border:none\" />\n",
              "     <output id=\"result-c5ed7537-6cd2-459f-a4a4-f61a930d4dad\">\n",
              "      Upload widget is only available when the cell has been executed in the\n",
              "      current browser session. Please rerun this cell to enable.\n",
              "      </output>\n",
              "      <script>// Copyright 2017 Google LLC\n",
              "//\n",
              "// Licensed under the Apache License, Version 2.0 (the \"License\");\n",
              "// you may not use this file except in compliance with the License.\n",
              "// You may obtain a copy of the License at\n",
              "//\n",
              "//      http://www.apache.org/licenses/LICENSE-2.0\n",
              "//\n",
              "// Unless required by applicable law or agreed to in writing, software\n",
              "// distributed under the License is distributed on an \"AS IS\" BASIS,\n",
              "// WITHOUT WARRANTIES OR CONDITIONS OF ANY KIND, either express or implied.\n",
              "// See the License for the specific language governing permissions and\n",
              "// limitations under the License.\n",
              "\n",
              "/**\n",
              " * @fileoverview Helpers for google.colab Python module.\n",
              " */\n",
              "(function(scope) {\n",
              "function span(text, styleAttributes = {}) {\n",
              "  const element = document.createElement('span');\n",
              "  element.textContent = text;\n",
              "  for (const key of Object.keys(styleAttributes)) {\n",
              "    element.style[key] = styleAttributes[key];\n",
              "  }\n",
              "  return element;\n",
              "}\n",
              "\n",
              "// Max number of bytes which will be uploaded at a time.\n",
              "const MAX_PAYLOAD_SIZE = 100 * 1024;\n",
              "\n",
              "function _uploadFiles(inputId, outputId) {\n",
              "  const steps = uploadFilesStep(inputId, outputId);\n",
              "  const outputElement = document.getElementById(outputId);\n",
              "  // Cache steps on the outputElement to make it available for the next call\n",
              "  // to uploadFilesContinue from Python.\n",
              "  outputElement.steps = steps;\n",
              "\n",
              "  return _uploadFilesContinue(outputId);\n",
              "}\n",
              "\n",
              "// This is roughly an async generator (not supported in the browser yet),\n",
              "// where there are multiple asynchronous steps and the Python side is going\n",
              "// to poll for completion of each step.\n",
              "// This uses a Promise to block the python side on completion of each step,\n",
              "// then passes the result of the previous step as the input to the next step.\n",
              "function _uploadFilesContinue(outputId) {\n",
              "  const outputElement = document.getElementById(outputId);\n",
              "  const steps = outputElement.steps;\n",
              "\n",
              "  const next = steps.next(outputElement.lastPromiseValue);\n",
              "  return Promise.resolve(next.value.promise).then((value) => {\n",
              "    // Cache the last promise value to make it available to the next\n",
              "    // step of the generator.\n",
              "    outputElement.lastPromiseValue = value;\n",
              "    return next.value.response;\n",
              "  });\n",
              "}\n",
              "\n",
              "/**\n",
              " * Generator function which is called between each async step of the upload\n",
              " * process.\n",
              " * @param {string} inputId Element ID of the input file picker element.\n",
              " * @param {string} outputId Element ID of the output display.\n",
              " * @return {!Iterable<!Object>} Iterable of next steps.\n",
              " */\n",
              "function* uploadFilesStep(inputId, outputId) {\n",
              "  const inputElement = document.getElementById(inputId);\n",
              "  inputElement.disabled = false;\n",
              "\n",
              "  const outputElement = document.getElementById(outputId);\n",
              "  outputElement.innerHTML = '';\n",
              "\n",
              "  const pickedPromise = new Promise((resolve) => {\n",
              "    inputElement.addEventListener('change', (e) => {\n",
              "      resolve(e.target.files);\n",
              "    });\n",
              "  });\n",
              "\n",
              "  const cancel = document.createElement('button');\n",
              "  inputElement.parentElement.appendChild(cancel);\n",
              "  cancel.textContent = 'Cancel upload';\n",
              "  const cancelPromise = new Promise((resolve) => {\n",
              "    cancel.onclick = () => {\n",
              "      resolve(null);\n",
              "    };\n",
              "  });\n",
              "\n",
              "  // Wait for the user to pick the files.\n",
              "  const files = yield {\n",
              "    promise: Promise.race([pickedPromise, cancelPromise]),\n",
              "    response: {\n",
              "      action: 'starting',\n",
              "    }\n",
              "  };\n",
              "\n",
              "  cancel.remove();\n",
              "\n",
              "  // Disable the input element since further picks are not allowed.\n",
              "  inputElement.disabled = true;\n",
              "\n",
              "  if (!files) {\n",
              "    return {\n",
              "      response: {\n",
              "        action: 'complete',\n",
              "      }\n",
              "    };\n",
              "  }\n",
              "\n",
              "  for (const file of files) {\n",
              "    const li = document.createElement('li');\n",
              "    li.append(span(file.name, {fontWeight: 'bold'}));\n",
              "    li.append(span(\n",
              "        `(${file.type || 'n/a'}) - ${file.size} bytes, ` +\n",
              "        `last modified: ${\n",
              "            file.lastModifiedDate ? file.lastModifiedDate.toLocaleDateString() :\n",
              "                                    'n/a'} - `));\n",
              "    const percent = span('0% done');\n",
              "    li.appendChild(percent);\n",
              "\n",
              "    outputElement.appendChild(li);\n",
              "\n",
              "    const fileDataPromise = new Promise((resolve) => {\n",
              "      const reader = new FileReader();\n",
              "      reader.onload = (e) => {\n",
              "        resolve(e.target.result);\n",
              "      };\n",
              "      reader.readAsArrayBuffer(file);\n",
              "    });\n",
              "    // Wait for the data to be ready.\n",
              "    let fileData = yield {\n",
              "      promise: fileDataPromise,\n",
              "      response: {\n",
              "        action: 'continue',\n",
              "      }\n",
              "    };\n",
              "\n",
              "    // Use a chunked sending to avoid message size limits. See b/62115660.\n",
              "    let position = 0;\n",
              "    do {\n",
              "      const length = Math.min(fileData.byteLength - position, MAX_PAYLOAD_SIZE);\n",
              "      const chunk = new Uint8Array(fileData, position, length);\n",
              "      position += length;\n",
              "\n",
              "      const base64 = btoa(String.fromCharCode.apply(null, chunk));\n",
              "      yield {\n",
              "        response: {\n",
              "          action: 'append',\n",
              "          file: file.name,\n",
              "          data: base64,\n",
              "        },\n",
              "      };\n",
              "\n",
              "      let percentDone = fileData.byteLength === 0 ?\n",
              "          100 :\n",
              "          Math.round((position / fileData.byteLength) * 100);\n",
              "      percent.textContent = `${percentDone}% done`;\n",
              "\n",
              "    } while (position < fileData.byteLength);\n",
              "  }\n",
              "\n",
              "  // All done.\n",
              "  yield {\n",
              "    response: {\n",
              "      action: 'complete',\n",
              "    }\n",
              "  };\n",
              "}\n",
              "\n",
              "scope.google = scope.google || {};\n",
              "scope.google.colab = scope.google.colab || {};\n",
              "scope.google.colab._files = {\n",
              "  _uploadFiles,\n",
              "  _uploadFilesContinue,\n",
              "};\n",
              "})(self);\n",
              "</script> "
            ],
            "text/plain": [
              "<IPython.core.display.HTML object>"
            ]
          },
          "metadata": {},
          "output_type": "display_data"
        },
        {
          "name": "stdout",
          "output_type": "stream",
          "text": [
            "Saving archive (3) (3).zip to archive (3) (3).zip\n"
          ]
        }
      ],
      "source": [
        "uploaded = files.upload()"
      ]
    },
    {
      "cell_type": "code",
      "execution_count": null,
      "metadata": {
        "id": "cCp6QLMcS-RM"
      },
      "outputs": [],
      "source": [
        "import zipfile\n",
        "import os\n",
        "zip_path = \"archive (3) (3).zip\""
      ]
    },
    {
      "cell_type": "code",
      "execution_count": null,
      "metadata": {
        "id": "4oGbo6rRTcz-"
      },
      "outputs": [],
      "source": [
        "with zipfile.ZipFile(zip_path, 'r') as zip_ref:\n",
        "  zip_ref.extractall(\"extracted_files\")"
      ]
    },
    {
      "cell_type": "code",
      "execution_count": null,
      "metadata": {
        "colab": {
          "base_uri": "https://localhost:8080/"
        },
        "id": "EFs6DHAcTpI1",
        "outputId": "b84db1c9-0aeb-47aa-c6cc-e3346906d13d"
      },
      "outputs": [
        {
          "data": {
            "text/plain": [
              "['Final_Augmented_dataset_Diseases_and_Symptoms.csv']"
            ]
          },
          "execution_count": 5,
          "metadata": {},
          "output_type": "execute_result"
        }
      ],
      "source": [
        "os.listdir(\"extracted_files\")"
      ]
    },
    {
      "cell_type": "code",
      "execution_count": null,
      "metadata": {
        "id": "Y1OPxdD7US--"
      },
      "outputs": [],
      "source": [
        "import pandas as pd\n",
        "\n",
        "#Adjust filename based on what's printed from os.listdir\n",
        "excel_path = \"extracted_files/Final_Augmented_dataset_Diseases_and_Symptoms.csv\""
      ]
    },
    {
      "cell_type": "code",
      "execution_count": null,
      "metadata": {
        "colab": {
          "base_uri": "https://localhost:8080/",
          "height": 394
        },
        "id": "RJeUIO2AUkxU",
        "outputId": "4bafed2c-e0a7-454e-a522-80334d5b5f62"
      },
      "outputs": [
        {
          "data": {
            "application/vnd.google.colaboratory.intrinsic+json": {
              "type": "dataframe",
              "variable_name": "df"
            },
            "text/html": [
              "\n",
              "  <div id=\"df-02e85d92-b147-4c43-9639-c2a782647de7\" class=\"colab-df-container\">\n",
              "    <div>\n",
              "<style scoped>\n",
              "    .dataframe tbody tr th:only-of-type {\n",
              "        vertical-align: middle;\n",
              "    }\n",
              "\n",
              "    .dataframe tbody tr th {\n",
              "        vertical-align: top;\n",
              "    }\n",
              "\n",
              "    .dataframe thead th {\n",
              "        text-align: right;\n",
              "    }\n",
              "</style>\n",
              "<table border=\"1\" class=\"dataframe\">\n",
              "  <thead>\n",
              "    <tr style=\"text-align: right;\">\n",
              "      <th></th>\n",
              "      <th>diseases</th>\n",
              "      <th>anxiety and nervousness</th>\n",
              "      <th>depression</th>\n",
              "      <th>shortness of breath</th>\n",
              "      <th>depressive or psychotic symptoms</th>\n",
              "      <th>sharp chest pain</th>\n",
              "      <th>dizziness</th>\n",
              "      <th>insomnia</th>\n",
              "      <th>abnormal involuntary movements</th>\n",
              "      <th>chest tightness</th>\n",
              "      <th>...</th>\n",
              "      <th>stuttering or stammering</th>\n",
              "      <th>problems with orgasm</th>\n",
              "      <th>nose deformity</th>\n",
              "      <th>lump over jaw</th>\n",
              "      <th>sore in nose</th>\n",
              "      <th>hip weakness</th>\n",
              "      <th>back swelling</th>\n",
              "      <th>ankle stiffness or tightness</th>\n",
              "      <th>ankle weakness</th>\n",
              "      <th>neck weakness</th>\n",
              "    </tr>\n",
              "  </thead>\n",
              "  <tbody>\n",
              "    <tr>\n",
              "      <th>0</th>\n",
              "      <td>panic disorder</td>\n",
              "      <td>1</td>\n",
              "      <td>0</td>\n",
              "      <td>1</td>\n",
              "      <td>1</td>\n",
              "      <td>0</td>\n",
              "      <td>0</td>\n",
              "      <td>0</td>\n",
              "      <td>0</td>\n",
              "      <td>1</td>\n",
              "      <td>...</td>\n",
              "      <td>0</td>\n",
              "      <td>0</td>\n",
              "      <td>0</td>\n",
              "      <td>0</td>\n",
              "      <td>0</td>\n",
              "      <td>0</td>\n",
              "      <td>0</td>\n",
              "      <td>0</td>\n",
              "      <td>0</td>\n",
              "      <td>0</td>\n",
              "    </tr>\n",
              "    <tr>\n",
              "      <th>1</th>\n",
              "      <td>panic disorder</td>\n",
              "      <td>0</td>\n",
              "      <td>0</td>\n",
              "      <td>1</td>\n",
              "      <td>1</td>\n",
              "      <td>0</td>\n",
              "      <td>1</td>\n",
              "      <td>1</td>\n",
              "      <td>0</td>\n",
              "      <td>0</td>\n",
              "      <td>...</td>\n",
              "      <td>0</td>\n",
              "      <td>0</td>\n",
              "      <td>0</td>\n",
              "      <td>0</td>\n",
              "      <td>0</td>\n",
              "      <td>0</td>\n",
              "      <td>0</td>\n",
              "      <td>0</td>\n",
              "      <td>0</td>\n",
              "      <td>0</td>\n",
              "    </tr>\n",
              "    <tr>\n",
              "      <th>2</th>\n",
              "      <td>panic disorder</td>\n",
              "      <td>1</td>\n",
              "      <td>1</td>\n",
              "      <td>1</td>\n",
              "      <td>1</td>\n",
              "      <td>0</td>\n",
              "      <td>1</td>\n",
              "      <td>1</td>\n",
              "      <td>0</td>\n",
              "      <td>0</td>\n",
              "      <td>...</td>\n",
              "      <td>0</td>\n",
              "      <td>0</td>\n",
              "      <td>0</td>\n",
              "      <td>0</td>\n",
              "      <td>0</td>\n",
              "      <td>0</td>\n",
              "      <td>0</td>\n",
              "      <td>0</td>\n",
              "      <td>0</td>\n",
              "      <td>0</td>\n",
              "    </tr>\n",
              "    <tr>\n",
              "      <th>3</th>\n",
              "      <td>panic disorder</td>\n",
              "      <td>1</td>\n",
              "      <td>0</td>\n",
              "      <td>0</td>\n",
              "      <td>1</td>\n",
              "      <td>0</td>\n",
              "      <td>1</td>\n",
              "      <td>1</td>\n",
              "      <td>1</td>\n",
              "      <td>0</td>\n",
              "      <td>...</td>\n",
              "      <td>0</td>\n",
              "      <td>0</td>\n",
              "      <td>0</td>\n",
              "      <td>0</td>\n",
              "      <td>0</td>\n",
              "      <td>0</td>\n",
              "      <td>0</td>\n",
              "      <td>0</td>\n",
              "      <td>0</td>\n",
              "      <td>0</td>\n",
              "    </tr>\n",
              "    <tr>\n",
              "      <th>4</th>\n",
              "      <td>panic disorder</td>\n",
              "      <td>1</td>\n",
              "      <td>1</td>\n",
              "      <td>0</td>\n",
              "      <td>0</td>\n",
              "      <td>0</td>\n",
              "      <td>0</td>\n",
              "      <td>1</td>\n",
              "      <td>1</td>\n",
              "      <td>1</td>\n",
              "      <td>...</td>\n",
              "      <td>0</td>\n",
              "      <td>0</td>\n",
              "      <td>0</td>\n",
              "      <td>0</td>\n",
              "      <td>0</td>\n",
              "      <td>0</td>\n",
              "      <td>0</td>\n",
              "      <td>0</td>\n",
              "      <td>0</td>\n",
              "      <td>0</td>\n",
              "    </tr>\n",
              "  </tbody>\n",
              "</table>\n",
              "<p>5 rows × 378 columns</p>\n",
              "</div>\n",
              "    <div class=\"colab-df-buttons\">\n",
              "\n",
              "  <div class=\"colab-df-container\">\n",
              "    <button class=\"colab-df-convert\" onclick=\"convertToInteractive('df-02e85d92-b147-4c43-9639-c2a782647de7')\"\n",
              "            title=\"Convert this dataframe to an interactive table.\"\n",
              "            style=\"display:none;\">\n",
              "\n",
              "  <svg xmlns=\"http://www.w3.org/2000/svg\" height=\"24px\" viewBox=\"0 -960 960 960\">\n",
              "    <path d=\"M120-120v-720h720v720H120Zm60-500h600v-160H180v160Zm220 220h160v-160H400v160Zm0 220h160v-160H400v160ZM180-400h160v-160H180v160Zm440 0h160v-160H620v160ZM180-180h160v-160H180v160Zm440 0h160v-160H620v160Z\"/>\n",
              "  </svg>\n",
              "    </button>\n",
              "\n",
              "  <style>\n",
              "    .colab-df-container {\n",
              "      display:flex;\n",
              "      gap: 12px;\n",
              "    }\n",
              "\n",
              "    .colab-df-convert {\n",
              "      background-color: #E8F0FE;\n",
              "      border: none;\n",
              "      border-radius: 50%;\n",
              "      cursor: pointer;\n",
              "      display: none;\n",
              "      fill: #1967D2;\n",
              "      height: 32px;\n",
              "      padding: 0 0 0 0;\n",
              "      width: 32px;\n",
              "    }\n",
              "\n",
              "    .colab-df-convert:hover {\n",
              "      background-color: #E2EBFA;\n",
              "      box-shadow: 0px 1px 2px rgba(60, 64, 67, 0.3), 0px 1px 3px 1px rgba(60, 64, 67, 0.15);\n",
              "      fill: #174EA6;\n",
              "    }\n",
              "\n",
              "    .colab-df-buttons div {\n",
              "      margin-bottom: 4px;\n",
              "    }\n",
              "\n",
              "    [theme=dark] .colab-df-convert {\n",
              "      background-color: #3B4455;\n",
              "      fill: #D2E3FC;\n",
              "    }\n",
              "\n",
              "    [theme=dark] .colab-df-convert:hover {\n",
              "      background-color: #434B5C;\n",
              "      box-shadow: 0px 1px 3px 1px rgba(0, 0, 0, 0.15);\n",
              "      filter: drop-shadow(0px 1px 2px rgba(0, 0, 0, 0.3));\n",
              "      fill: #FFFFFF;\n",
              "    }\n",
              "  </style>\n",
              "\n",
              "    <script>\n",
              "      const buttonEl =\n",
              "        document.querySelector('#df-02e85d92-b147-4c43-9639-c2a782647de7 button.colab-df-convert');\n",
              "      buttonEl.style.display =\n",
              "        google.colab.kernel.accessAllowed ? 'block' : 'none';\n",
              "\n",
              "      async function convertToInteractive(key) {\n",
              "        const element = document.querySelector('#df-02e85d92-b147-4c43-9639-c2a782647de7');\n",
              "        const dataTable =\n",
              "          await google.colab.kernel.invokeFunction('convertToInteractive',\n",
              "                                                    [key], {});\n",
              "        if (!dataTable) return;\n",
              "\n",
              "        const docLinkHtml = 'Like what you see? Visit the ' +\n",
              "          '<a target=\"_blank\" href=https://colab.research.google.com/notebooks/data_table.ipynb>data table notebook</a>'\n",
              "          + ' to learn more about interactive tables.';\n",
              "        element.innerHTML = '';\n",
              "        dataTable['output_type'] = 'display_data';\n",
              "        await google.colab.output.renderOutput(dataTable, element);\n",
              "        const docLink = document.createElement('div');\n",
              "        docLink.innerHTML = docLinkHtml;\n",
              "        element.appendChild(docLink);\n",
              "      }\n",
              "    </script>\n",
              "  </div>\n",
              "\n",
              "\n",
              "<div id=\"df-c710d0ab-4c92-42f3-94bd-5b297fe0c0ff\">\n",
              "  <button class=\"colab-df-quickchart\" onclick=\"quickchart('df-c710d0ab-4c92-42f3-94bd-5b297fe0c0ff')\"\n",
              "            title=\"Suggest charts\"\n",
              "            style=\"display:none;\">\n",
              "\n",
              "<svg xmlns=\"http://www.w3.org/2000/svg\" height=\"24px\"viewBox=\"0 0 24 24\"\n",
              "     width=\"24px\">\n",
              "    <g>\n",
              "        <path d=\"M19 3H5c-1.1 0-2 .9-2 2v14c0 1.1.9 2 2 2h14c1.1 0 2-.9 2-2V5c0-1.1-.9-2-2-2zM9 17H7v-7h2v7zm4 0h-2V7h2v10zm4 0h-2v-4h2v4z\"/>\n",
              "    </g>\n",
              "</svg>\n",
              "  </button>\n",
              "\n",
              "<style>\n",
              "  .colab-df-quickchart {\n",
              "      --bg-color: #E8F0FE;\n",
              "      --fill-color: #1967D2;\n",
              "      --hover-bg-color: #E2EBFA;\n",
              "      --hover-fill-color: #174EA6;\n",
              "      --disabled-fill-color: #AAA;\n",
              "      --disabled-bg-color: #DDD;\n",
              "  }\n",
              "\n",
              "  [theme=dark] .colab-df-quickchart {\n",
              "      --bg-color: #3B4455;\n",
              "      --fill-color: #D2E3FC;\n",
              "      --hover-bg-color: #434B5C;\n",
              "      --hover-fill-color: #FFFFFF;\n",
              "      --disabled-bg-color: #3B4455;\n",
              "      --disabled-fill-color: #666;\n",
              "  }\n",
              "\n",
              "  .colab-df-quickchart {\n",
              "    background-color: var(--bg-color);\n",
              "    border: none;\n",
              "    border-radius: 50%;\n",
              "    cursor: pointer;\n",
              "    display: none;\n",
              "    fill: var(--fill-color);\n",
              "    height: 32px;\n",
              "    padding: 0;\n",
              "    width: 32px;\n",
              "  }\n",
              "\n",
              "  .colab-df-quickchart:hover {\n",
              "    background-color: var(--hover-bg-color);\n",
              "    box-shadow: 0 1px 2px rgba(60, 64, 67, 0.3), 0 1px 3px 1px rgba(60, 64, 67, 0.15);\n",
              "    fill: var(--button-hover-fill-color);\n",
              "  }\n",
              "\n",
              "  .colab-df-quickchart-complete:disabled,\n",
              "  .colab-df-quickchart-complete:disabled:hover {\n",
              "    background-color: var(--disabled-bg-color);\n",
              "    fill: var(--disabled-fill-color);\n",
              "    box-shadow: none;\n",
              "  }\n",
              "\n",
              "  .colab-df-spinner {\n",
              "    border: 2px solid var(--fill-color);\n",
              "    border-color: transparent;\n",
              "    border-bottom-color: var(--fill-color);\n",
              "    animation:\n",
              "      spin 1s steps(1) infinite;\n",
              "  }\n",
              "\n",
              "  @keyframes spin {\n",
              "    0% {\n",
              "      border-color: transparent;\n",
              "      border-bottom-color: var(--fill-color);\n",
              "      border-left-color: var(--fill-color);\n",
              "    }\n",
              "    20% {\n",
              "      border-color: transparent;\n",
              "      border-left-color: var(--fill-color);\n",
              "      border-top-color: var(--fill-color);\n",
              "    }\n",
              "    30% {\n",
              "      border-color: transparent;\n",
              "      border-left-color: var(--fill-color);\n",
              "      border-top-color: var(--fill-color);\n",
              "      border-right-color: var(--fill-color);\n",
              "    }\n",
              "    40% {\n",
              "      border-color: transparent;\n",
              "      border-right-color: var(--fill-color);\n",
              "      border-top-color: var(--fill-color);\n",
              "    }\n",
              "    60% {\n",
              "      border-color: transparent;\n",
              "      border-right-color: var(--fill-color);\n",
              "    }\n",
              "    80% {\n",
              "      border-color: transparent;\n",
              "      border-right-color: var(--fill-color);\n",
              "      border-bottom-color: var(--fill-color);\n",
              "    }\n",
              "    90% {\n",
              "      border-color: transparent;\n",
              "      border-bottom-color: var(--fill-color);\n",
              "    }\n",
              "  }\n",
              "</style>\n",
              "\n",
              "  <script>\n",
              "    async function quickchart(key) {\n",
              "      const quickchartButtonEl =\n",
              "        document.querySelector('#' + key + ' button');\n",
              "      quickchartButtonEl.disabled = true;  // To prevent multiple clicks.\n",
              "      quickchartButtonEl.classList.add('colab-df-spinner');\n",
              "      try {\n",
              "        const charts = await google.colab.kernel.invokeFunction(\n",
              "            'suggestCharts', [key], {});\n",
              "      } catch (error) {\n",
              "        console.error('Error during call to suggestCharts:', error);\n",
              "      }\n",
              "      quickchartButtonEl.classList.remove('colab-df-spinner');\n",
              "      quickchartButtonEl.classList.add('colab-df-quickchart-complete');\n",
              "    }\n",
              "    (() => {\n",
              "      let quickchartButtonEl =\n",
              "        document.querySelector('#df-c710d0ab-4c92-42f3-94bd-5b297fe0c0ff button');\n",
              "      quickchartButtonEl.style.display =\n",
              "        google.colab.kernel.accessAllowed ? 'block' : 'none';\n",
              "    })();\n",
              "  </script>\n",
              "</div>\n",
              "\n",
              "    </div>\n",
              "  </div>\n"
            ],
            "text/plain": [
              "         diseases  anxiety and nervousness  depression  shortness of breath  \\\n",
              "0  panic disorder                        1           0                    1   \n",
              "1  panic disorder                        0           0                    1   \n",
              "2  panic disorder                        1           1                    1   \n",
              "3  panic disorder                        1           0                    0   \n",
              "4  panic disorder                        1           1                    0   \n",
              "\n",
              "   depressive or psychotic symptoms  sharp chest pain  dizziness  insomnia  \\\n",
              "0                                 1                 0          0         0   \n",
              "1                                 1                 0          1         1   \n",
              "2                                 1                 0          1         1   \n",
              "3                                 1                 0          1         1   \n",
              "4                                 0                 0          0         1   \n",
              "\n",
              "   abnormal involuntary movements  chest tightness  ...  \\\n",
              "0                               0                1  ...   \n",
              "1                               0                0  ...   \n",
              "2                               0                0  ...   \n",
              "3                               1                0  ...   \n",
              "4                               1                1  ...   \n",
              "\n",
              "   stuttering or stammering  problems with orgasm  nose deformity  \\\n",
              "0                         0                     0               0   \n",
              "1                         0                     0               0   \n",
              "2                         0                     0               0   \n",
              "3                         0                     0               0   \n",
              "4                         0                     0               0   \n",
              "\n",
              "   lump over jaw  sore in nose  hip weakness  back swelling  \\\n",
              "0              0             0             0              0   \n",
              "1              0             0             0              0   \n",
              "2              0             0             0              0   \n",
              "3              0             0             0              0   \n",
              "4              0             0             0              0   \n",
              "\n",
              "   ankle stiffness or tightness  ankle weakness  neck weakness  \n",
              "0                             0               0              0  \n",
              "1                             0               0              0  \n",
              "2                             0               0              0  \n",
              "3                             0               0              0  \n",
              "4                             0               0              0  \n",
              "\n",
              "[5 rows x 378 columns]"
            ]
          },
          "execution_count": 7,
          "metadata": {},
          "output_type": "execute_result"
        }
      ],
      "source": [
        "df=pd.read_csv(\"extracted_files/Final_Augmented_dataset_Diseases_and_Symptoms.csv\")\n",
        "df.head()"
      ]
    },
    {
      "cell_type": "code",
      "execution_count": null,
      "metadata": {
        "colab": {
          "base_uri": "https://localhost:8080/"
        },
        "id": "xkXccq7JUrEK",
        "outputId": "ad5253af-eccc-4a1c-a1a8-4324a248c1da"
      },
      "outputs": [
        {
          "name": "stdout",
          "output_type": "stream",
          "text": [
            "Number of rows: 246945\n",
            "Number of columns: 378\n",
            "['panic disorder' 'vocal cord polyp' 'turner syndrome' 'cryptorchidism'\n",
            " 'poisoning due to ethylene glycol' 'atrophic vaginitis'\n",
            " 'fracture of the hand' 'cellulitis or abscess of mouth'\n",
            " 'eye alignment disorder' 'headache after lumbar puncture'\n",
            " 'pyloric stenosis' 'salivary gland disorder' 'osteochondrosis'\n",
            " 'injury to the knee' 'metabolic disorder' 'vaginitis'\n",
            " 'sick sinus syndrome' 'tinnitus of unknown cause' 'glaucoma'\n",
            " 'eating disorder' 'transient ischemic attack' 'pyelonephritis'\n",
            " 'rotator cuff injury' 'chronic pain disorder' 'problem during pregnancy'\n",
            " 'liver cancer' 'atelectasis' 'injury to the hand' 'choledocholithiasis'\n",
            " 'injury to the hip' 'cirrhosis' 'thoracic aortic aneurysm'\n",
            " 'subdural hemorrhage' 'diabetic retinopathy' 'fibromyalgia'\n",
            " 'ischemia of the bowel' 'fetal alcohol syndrome' 'peritonitis'\n",
            " 'injury to the abdomen' 'acute pancreatitis' 'thrombophlebitis' 'asthma'\n",
            " 'foreign body in the vagina' 'restless leg syndrome' 'emphysema'\n",
            " 'cysticercosis' 'induced abortion' 'teething syndrome'\n",
            " 'infectious gastroenteritis' 'acute sinusitis'\n",
            " 'substance-related mental disorder' 'postpartum depression'\n",
            " 'coronary atherosclerosis' 'spondylitis' 'pituitary adenoma'\n",
            " 'uterine fibroids' 'idiopathic nonmenstrual bleeding' 'chalazion'\n",
            " 'ovarian torsion' 'retinopathy due to high blood pressure'\n",
            " 'vaginal yeast infection' 'mastoiditis' 'lung contusion'\n",
            " 'hypertrophic obstructive cardiomyopathy (hocm)' 'ingrown toe nail'\n",
            " 'pulmonary eosinophilia' 'corneal disorder'\n",
            " 'foreign body in the gastrointestinal tract' 'endophthalmitis'\n",
            " 'intestinal malabsorption' 'viral warts' 'hyperhidrosis' 'stroke'\n",
            " 'pilonidal cyst' 'crushing injury' 'normal pressure hydrocephalus'\n",
            " 'alopecia' 'hashimoto thyroiditis' 'flat feet'\n",
            " 'nonalcoholic liver disease (nash)' 'hemarthrosis'\n",
            " 'pelvic organ prolapse' 'fracture of the arm'\n",
            " 'coagulation (bleeding) disorder' 'intracranial hemorrhage'\n",
            " 'hyperkalemia' 'cornea infection' 'abscess of the lung' 'dengue fever'\n",
            " 'chronic sinusitis' 'cholesteatoma' 'volvulus' 'injury to the finger'\n",
            " 'poisoning due to analgesics' 'atrial fibrillation' 'pinworm infection'\n",
            " 'urethral valves' 'open wound of the neck' 'achalasia'\n",
            " 'conductive hearing loss' 'abdominal hernia' 'cerebral palsy'\n",
            " 'marijuana abuse' 'cryptococcosis' 'obesity' 'indigestion' 'bursitis'\n",
            " 'esophageal cancer' 'pulmonary congestion'\n",
            " 'juvenile rheumatoid arthritis' 'actinic keratosis' 'acute otitis media'\n",
            " 'astigmatism' 'tuberous sclerosis' 'empyema' 'presbyacusis'\n",
            " 'neonatal jaundice' 'chronic obstructive pulmonary disease (copd)'\n",
            " 'dislocation of the elbow' 'spondylosis' 'herpangina'\n",
            " 'injury to the shoulder' 'poisoning due to antidepressants'\n",
            " 'infection of open wound' 'deep vein thrombosis (dvt)'\n",
            " 'protein deficiency' 'myoclonus' 'bone spur of the calcaneous'\n",
            " 'von willebrand disease' 'open wound of the back' 'heart block'\n",
            " 'colonic polyp' 'magnesium deficiency'\n",
            " 'female infertility of unknown cause' 'pericarditis'\n",
            " 'attention deficit hyperactivity disorder (adhd)'\n",
            " 'pulmonic valve disease' 'tietze syndrome' 'cranial nerve palsy'\n",
            " 'injury to the arm' 'conversion disorder'\n",
            " 'complex regional pain syndrome' 'otosclerosis' 'injury to the trunk'\n",
            " 'hypothyroidism' 'primary insomnia' 'lice' 'vitamin b12 deficiency'\n",
            " 'diabetes' 'vulvodynia' 'endometriosis' 'vasculitis' 'concussion'\n",
            " 'oral leukoplakia' 'chronic kidney disease' 'bladder disorder'\n",
            " 'chorioretinitis' 'priapism' 'myositis' 'mononucleosis' 'neuralgia'\n",
            " 'polycystic kidney disease' 'bipolar disorder' 'amyloidosis'\n",
            " 'chronic inflammatory demyelinating polyneuropathy (cidp)'\n",
            " 'gastroesophageal reflux disease (gerd)' 'vitreous hemorrhage'\n",
            " 'poisoning due to antimicrobial drugs' 'open wound of the mouth'\n",
            " 'scleroderma' 'myasthenia gravis' 'hypoglycemia'\n",
            " 'idiopathic absence of menstruation' 'dislocation of the ankle'\n",
            " 'carbon monoxide poisoning' 'panic attack' 'plantar fasciitis'\n",
            " 'hyperopia' 'poisoning due to sedatives' 'pemphigus' 'peyronie disease'\n",
            " 'hiatal hernia' 'extrapyramidal effect of drugs' 'meniere disease'\n",
            " 'anal fissure' 'allergy' 'chronic otitis media' 'fracture of the finger'\n",
            " 'hirschsprung disease' 'polymyalgia rheumatica' 'lymphedema'\n",
            " 'bladder cancer' 'acute bronchospasm' 'acute glaucoma'\n",
            " 'open wound of the chest' 'dislocation of the patella' 'sciatica'\n",
            " 'hypercalcemia' 'stress incontinence' 'varicose veins'\n",
            " 'benign kidney cyst' 'hydrocele of the testicle'\n",
            " 'degenerative disc disease' 'hirsutism' 'dislocation of the foot'\n",
            " 'hydronephrosis' 'diverticulosis' 'pain after an operation'\n",
            " 'huntington disease' 'lymphoma' 'dermatitis due to sun exposure'\n",
            " 'anemia due to chronic kidney disease' 'injury to internal organ'\n",
            " 'scleritis' 'pterygium' 'fungal infection of the skin' 'insulin overdose'\n",
            " 'syndrome of inappropriate secretion of adh (siadh)'\n",
            " 'foreign body in the ear' 'premenstrual tension syndrome'\n",
            " 'orbital cellulitis' 'injury to the leg' 'hepatic encephalopathy'\n",
            " 'bone cancer' 'syringomyelia' 'pulmonary fibrosis' 'mitral valve disease'\n",
            " 'parkinson disease' 'gout' 'otitis media' 'drug abuse (opioids)'\n",
            " 'myelodysplastic syndrome' 'fracture of the shoulder'\n",
            " 'acute kidney injury' 'threatened pregnancy' 'intracranial abscess'\n",
            " 'gum disease' 'open wound from surgical incision'\n",
            " 'gastrointestinal hemorrhage' 'seborrheic dermatitis'\n",
            " 'drug abuse (methamphetamine)' 'torticollis'\n",
            " 'poisoning due to antihypertensives' 'tension headache'\n",
            " 'alcohol intoxication' 'scurvy' 'narcolepsy' 'food allergy'\n",
            " 'labyrinthitis' 'anxiety' 'impulse control disorder'\n",
            " 'stenosis of the tear duct' 'abscess of nose' 'omphalitis' 'leukemia'\n",
            " 'bell palsy' 'conjunctivitis due to allergy' 'drug reaction'\n",
            " 'adrenal cancer' 'myopia' 'osteoarthritis' 'thyroid disease'\n",
            " 'pharyngitis' 'chronic rheumatic fever' 'hypocalcemia'\n",
            " 'macular degeneration' 'pneumonia' 'cold sore'\n",
            " 'premature ventricular contractions (pvcs)' 'testicular cancer'\n",
            " 'hydrocephalus' 'breast cancer' 'anemia due to malignancy'\n",
            " 'esophageal varices' 'endometrial cancer' 'cystic fibrosis'\n",
            " 'intertrigo (skin condition)' 'parathyroid adenoma'\n",
            " 'glucocorticoid deficiency' 'temporomandibular joint disorder'\n",
            " 'wilson disease' 'vesicoureteral reflux' 'vitamin a deficiency'\n",
            " 'gonorrhea' 'fracture of the rib' 'ependymoma' 'hepatitis due to a toxin'\n",
            " 'vaginal cyst' 'open wound of the shoulder' 'ectopic pregnancy'\n",
            " 'chronic knee pain' 'pinguecula' 'hypergammaglobulinemia' 'alcohol abuse'\n",
            " 'carpal tunnel syndrome' 'pituitary disorder' 'kidney stone' 'autism'\n",
            " 'cat scratch disease' 'chronic glaucoma' 'retinal detachment'\n",
            " 'aplastic anemia' 'overflow incontinence' 'hemolytic anemia'\n",
            " 'lateral epicondylitis (tennis elbow)' 'open wound of the eye' 'syphilis'\n",
            " 'diabetic kidney disease' 'nose disorder' 'drug withdrawal'\n",
            " 'dental caries' 'hypercholesterolemia' 'fracture of the patella'\n",
            " 'kidney failure' 'fracture of the neck' 'muscle spasm' 'hemophilia'\n",
            " 'hyperosmotic hyperketotic state' 'peritonsillar abscess' 'gastroparesis'\n",
            " 'itching of unknown cause' 'polycythemia vera' 'thrombocytopenia'\n",
            " 'head and neck cancer' 'pseudohypoparathyroidism' 'goiter'\n",
            " 'urge incontinence' 'edward syndrome' 'open wound of the arm'\n",
            " 'muscular dystrophy' 'mittelschmerz' 'corneal abrasion'\n",
            " 'anemia of chronic disease' 'dysthymic disorder' 'scarlet fever'\n",
            " 'hypertensive heart disease' 'drug abuse (barbiturates)'\n",
            " 'polycystic ovarian syndrome (pcos)' 'encephalitis' 'cyst of the eyelid'\n",
            " 'balanitis' 'foreign body in the throat' 'drug abuse (cocaine)'\n",
            " 'optic neuritis' 'alcohol withdrawal'\n",
            " 'premature atrial contractions (pacs)' 'hemiplegia' 'hammer toe'\n",
            " 'open wound of the cheek' 'joint effusion' 'open wound of the knee'\n",
            " 'meningioma' 'brain cancer' 'placental abruption'\n",
            " 'seasonal allergies (hay fever)' 'lung cancer' 'primary kidney disease'\n",
            " 'uterine cancer' 'dry eye of unknown cause' 'fibrocystic breast disease'\n",
            " 'fungal infection of the hair' 'tooth abscess'\n",
            " 'envenomation from spider or animal bite' 'vacterl syndrome'\n",
            " 'vertebrobasilar insufficiency' 'rectal disorder' 'atonic bladder'\n",
            " 'benign paroxysmal positional vertical (bppv)' 'blepharospasm'\n",
            " 'sarcoidosis' 'metastatic cancer' 'trigger finger (finger disorder)'\n",
            " 'stye' 'hemochromatosis' 'osteochondroma' 'cushing syndrome'\n",
            " 'typhoid fever' 'vitreous degeneration' 'atrophic skin condition'\n",
            " 'aspergillosis' 'uterine atony' 'trichinosis' 'whooping cough'\n",
            " 'open wound of the lip' 'subacute thyroiditis' 'oral mucosal lesion'\n",
            " 'open wound due to trauma' 'intracerebral hemorrhage' 'alzheimer disease'\n",
            " 'vaginismus' 'systemic lupus erythematosis (sle)'\n",
            " 'premature ovarian failure' 'thoracic outlet syndrome' 'ganglion cyst'\n",
            " 'dislocation of the knee' 'crohn disease' 'postoperative infection'\n",
            " 'folate deficiency' 'fluid overload' 'atrial flutter' 'skin disorder'\n",
            " 'floaters' 'tooth disorder' 'heart attack' 'open wound of the abdomen'\n",
            " 'fracture of the leg' 'oral thrush (yeast infection)' 'pityriasis rosea'\n",
            " 'allergy to animals' 'orthostatic hypotension'\n",
            " 'obstructive sleep apnea (osa)' 'hypokalemia' 'psoriasis'\n",
            " 'dislocation of the shoulder' 'intussusception' 'cervicitis'\n",
            " 'abscess of the pharynx' 'primary thrombocythemia' 'arthritis of the hip'\n",
            " 'decubitus ulcer' 'hypernatremia' 'sensorineural hearing loss'\n",
            " 'chronic ulcer' 'osteoporosis' 'ileus' 'sickle cell crisis' 'urethritis'\n",
            " 'prostatitis' \"otitis externa (swimmer's ear)\"\n",
            " 'poisoning due to anticonvulsants' 'testicular torsion'\n",
            " 'tricuspid valve disease' 'urethral stricture' 'vitamin d deficiency'\n",
            " 'hydatidiform mole' 'pain disorder affecting the neck' 'tuberculosis'\n",
            " 'pelvic fistula' 'acute bronchiolitis' 'presbyopia' 'dementia'\n",
            " 'insect bite' 'paroxysmal ventricular tachycardia'\n",
            " 'congenital heart defect' 'connective tissue disorder'\n",
            " 'foreign body in the eye' 'poisoning due to gas'\n",
            " 'pyogenic skin infection' 'endometrial hyperplasia'\n",
            " 'acanthosis nigricans' 'central atherosclerosis' 'viral exanthem'\n",
            " 'noninfectious gastroenteritis' 'benign prostatic hyperplasia (bph)'\n",
            " 'menopause' 'primary immunodeficiency' 'ovarian cancer' 'cataract'\n",
            " 'dislocation of the hip' 'spinal stenosis' 'intestinal obstruction'\n",
            " 'heart contusion' 'congenital malformation syndrome' 'sporotrichosis'\n",
            " 'lymphangitis' 'wernicke korsakoff syndrome' 'intestinal disease'\n",
            " 'acute bronchitis' 'persistent vomiting of unknown cause'\n",
            " 'open wound of the foot' 'myocarditis' 'preeclampsia'\n",
            " 'ischemic heart disease' 'neurofibromatosis' 'chickenpox'\n",
            " 'pancreatic cancer' 'neuropathy due to drugs' 'croup'\n",
            " 'idiopathic excessive menstruation' 'amblyopia' 'meckel diverticulum'\n",
            " 'dislocation of the wrist' 'ear drum damage' 'erectile dysfunction'\n",
            " 'temporary or benign blood in urine'\n",
            " 'kidney disease due to longstanding hypertension'\n",
            " 'chondromalacia of the patella' 'onychomycosis' 'urethral disorder'\n",
            " 'lyme disease' 'iron deficiency anemia'\n",
            " 'acute respiratory distress syndrome (ards)' 'toxic multinodular goiter'\n",
            " 'open wound of the finger' 'autonomic nervous system disorder'\n",
            " 'psychosexual disorder' 'anemia' 'tendinitis' 'common cold'\n",
            " 'amyotrophic lateral sclerosis (als)'\n",
            " 'central retinal artery or vein occlusion'\n",
            " 'paroxysmal supraventricular tachycardia' 'venous insufficiency'\n",
            " 'trichomonas infection' 'acne' 'depression' 'drug abuse'\n",
            " 'urinary tract obstruction' 'diabetes insipidus' 'iridocyclitis'\n",
            " 'varicocele of the testicles' 'irritable bowel syndrome'\n",
            " 'fracture of the foot' 'ovarian cyst' 'chlamydia' 'parasitic disease'\n",
            " 'fracture of the jaw' 'lipoma' 'female genitalia infection'\n",
            " 'pulmonary hypertension' 'thyroid nodule' 'broken tooth'\n",
            " 'dumping syndrome' 'lymphadenitis' 'injury to the face'\n",
            " 'aortic valve disease' 'rheumatoid arthritis' 'spermatocele' 'impetigo'\n",
            " 'anal fistula' 'hypothermia' 'oppositional disorder' 'migraine'\n",
            " 'diabetic peripheral neuropathy' 'testicular disorder'\n",
            " 'gestational diabetes' 'hidradenitis suppurativa' 'valley fever'\n",
            " 'conjunctivitis due to bacteria' 'lewy body dementia' 'multiple myeloma'\n",
            " 'head injury' 'ascending cholangitis'\n",
            " 'idiopathic irregular menstrual cycle' 'interstitial lung disease'\n",
            " 'mononeuritis' 'malaria' 'somatization disorder' 'hypovolemia'\n",
            " 'schizophrenia' 'knee ligament or meniscus tear' 'endocarditis' 'sepsis'\n",
            " 'heat stroke' 'cholecystitis' 'cardiac arrest' 'cardiomyopathy'\n",
            " 'social phobia' 'meningitis' 'spherocytosis' 'hormone disorder'\n",
            " 'raynaud disease' 'reactive arthritis' 'scabies' 'ear wax impaction'\n",
            " 'hypertension of pregnancy' 'peripheral arterial embolism' 'rosacea'\n",
            " 'fracture of the skull' 'uveitis' 'fracture of the facial bones'\n",
            " 'tracheitis' 'jaw disorder' 'perirectal infection' 'breast cyst'\n",
            " 'post-traumatic stress disorder (ptsd)' 'kidney cancer' 'vulvar cancer'\n",
            " 'blepharitis' 'celiac disease' 'cystitis' 'sickle cell anemia'\n",
            " 'subconjunctival hemorrhage' 'hemorrhoids' 'contact dermatitis'\n",
            " 'sinus bradycardia' 'high blood pressure' 'pelvic inflammatory disease'\n",
            " 'liver disease' 'chronic constipation' 'thyroid cancer' 'flu'\n",
            " 'friedrich ataxia' 'tic (movement) disorder' 'skin polyp'\n",
            " 'brachial neuritis' 'cervical cancer' 'adrenal adenoma' 'esophagitis'\n",
            " 'gas gangrene' 'yeast infection' 'spina bifida'\n",
            " 'drug poisoning due to medication' 'alcoholic liver disease'\n",
            " 'malignant hypertension' 'diverticulitis' 'moyamoya disease'\n",
            " 'heat exhaustion' 'psychotic disorder' 'frostbite'\n",
            " 'atrophy of the corpus cavernosum' 'smoking or tobacco addiction'\n",
            " 'sprain or strain' 'essential tremor' 'open wound of the ear'\n",
            " 'foreign body in the nose' 'idiopathic painful menstruation'\n",
            " 'down syndrome' 'idiopathic infrequent menstruation' 'pneumothorax'\n",
            " 'de quervain disease' 'fracture of the vertebra'\n",
            " 'human immunodeficiency virus infection (hiv)' 'mumps'\n",
            " 'subarachnoid hemorrhage' 'acute fatty liver of pregnancy (aflp)'\n",
            " 'ectropion' 'scar' 'lactose intolerance'\n",
            " 'eustachian tube dysfunction (ear disorder)' 'appendicitis'\n",
            " 'graves disease' 'dissociative disorder' 'open wound of the face'\n",
            " 'dislocation of the vertebra' 'phimosis' 'hyperemesis gravidarum'\n",
            " 'pregnancy' 'thalassemia' 'placenta previa' 'epidural hemorrhage'\n",
            " 'septic arthritis' \"athlete's foot\" 'pleural effusion' 'aphakia'\n",
            " 'vulvar disorder' 'sialoadenitis' 'gynecomastia'\n",
            " 'urinary tract infection' 'histoplasmosis' 'erythema multiforme'\n",
            " 'scoliosis' 'bunion' 'arrhythmia' 'trigeminal neuralgia'\n",
            " 'ankylosing spondylitis' 'peripheral nerve disorder' 'sebaceous cyst'\n",
            " 'poisoning due to antipsychotics' 'neurosis' 'prostate cancer'\n",
            " 'cerebral edema' 'dislocation of the finger' 'birth trauma'\n",
            " 'chronic pancreatitis' 'hematoma' 'carcinoid syndrome'\n",
            " 'open wound of the head' 'seborrheic keratosis' 'burn'\n",
            " 'spontaneous abortion' 'genital herpes' 'adjustment reaction' 'gallstone'\n",
            " 'multiple sclerosis' 'zenker diverticulum' 'fracture of the pelvis'\n",
            " 'pneumoconiosis' 'hyperlipidemia' 'ulcerative colitis'\n",
            " 'male genitalia infection' 'hpv' 'angina' 'injury to the spinal cord'\n",
            " 'nasal polyp' 'lichen simplex' 'trichiasis' 'acariasis'\n",
            " 'colorectal cancer' 'skin pigmentation disorder' 'factitious disorder'\n",
            " 'lymphogranuloma venereum' 'galactorrhea of unknown cause'\n",
            " 'g6pd enzyme deficiency' 'nerve impingement near the shoulder'\n",
            " 'toxoplasmosis' 'fibroadenoma' 'open wound of the hand' 'missed abortion'\n",
            " 'diabetic ketoacidosis' 'granuloma inguinale'\n",
            " 'obsessive compulsive disorder (ocd)' 'injury of the ankle'\n",
            " 'hyponatremia' 'stricture of the esophagus' 'fracture of the ankle'\n",
            " 'soft tissue sarcoma' 'bone disorder' 'epilepsy' 'personality disorder'\n",
            " 'shingles (herpes zoster)' 'tourette syndrome' 'avascular necrosis'\n",
            " 'strep throat' 'spinocerebellar ataxia' 'osteomyelitis'\n",
            " 'sjogren syndrome' 'adhesive capsulitis of the shoulder'\n",
            " 'viral hepatitis' 'tonsillar hypertrophy' 'gastritis' 'skin cancer'\n",
            " 'rheumatic fever' 'aphthous ulcer' 'tonsillitis' 'intestinal cancer'\n",
            " 'rocky mountain spotted fever' 'stomach cancer'\n",
            " 'developmental disability' 'acute stress reaction' 'delirium' 'callus'\n",
            " 'guillain barre syndrome' 'lumbago' 'deviated nasal septum' 'hemangioma'\n",
            " 'peripheral arterial disease' 'chronic back pain' 'heart failure'\n",
            " 'conjunctivitis' 'herniated disk' 'rhabdomyolysis'\n",
            " 'breast infection (mastitis)' 'abdominal aortic aneurysm'\n",
            " 'pulmonary embolism' 'conduct disorder' 'mastectomy' 'epididymitis'\n",
            " 'premature rupture of amniotic membrane' 'molluscum contagiosum'\n",
            " 'necrotizing fasciitis' 'benign vaginal discharge (leukorrhea)'\n",
            " 'bladder obstruction' 'melanoma' 'cervical disorder' 'laryngitis'\n",
            " 'dyshidrosis' 'poisoning due to opioids' 'diaper rash' 'lichen planus'\n",
            " 'gastroduodenal ulcer' 'inguinal hernia' 'eczema' 'asperger syndrome'\n",
            " 'mucositis' 'paronychia' 'open wound of the jaw'\n",
            " 'white blood cell disease' 'kaposi sarcoma' 'spondylolisthesis'\n",
            " 'pseudotumor cerebri' 'conjunctivitis due to virus'\n",
            " 'open wound of the nose']\n"
          ]
        }
      ],
      "source": [
        "rows,cols = df.shape\n",
        "print(f\"Number of rows: {rows}\")\n",
        "print(f\"Number of columns: {cols}\")\n",
        "print(df['diseases'].unique())"
      ]
    },
    {
      "cell_type": "code",
      "execution_count": null,
      "metadata": {
        "colab": {
          "base_uri": "https://localhost:8080/"
        },
        "id": "b6z9_9jAbD9c",
        "outputId": "3782ccd2-1274-4c12-9ea6-c81c84705fea"
      },
      "outputs": [
        {
          "name": "stdout",
          "output_type": "stream",
          "text": [
            "['panic disorder', 'vocal cord polyp', 'turner syndrome', 'cryptorchidism', 'poisoning due to ethylene glycol', 'atrophic vaginitis', 'fracture of the hand', 'cellulitis or abscess of mouth', 'eye alignment disorder', 'headache after lumbar puncture', 'pyloric stenosis', 'salivary gland disorder', 'osteochondrosis', 'injury to the knee', 'metabolic disorder', 'vaginitis', 'sick sinus syndrome', 'tinnitus of unknown cause', 'glaucoma', 'eating disorder', 'transient ischemic attack', 'pyelonephritis', 'rotator cuff injury', 'chronic pain disorder', 'problem during pregnancy', 'liver cancer', 'atelectasis', 'injury to the hand', 'choledocholithiasis', 'injury to the hip', 'cirrhosis', 'thoracic aortic aneurysm', 'subdural hemorrhage', 'diabetic retinopathy', 'fibromyalgia', 'ischemia of the bowel', 'fetal alcohol syndrome', 'peritonitis', 'injury to the abdomen', 'acute pancreatitis', 'thrombophlebitis', 'asthma', 'foreign body in the vagina', 'restless leg syndrome', 'emphysema', 'cysticercosis', 'induced abortion', 'teething syndrome', 'infectious gastroenteritis', 'acute sinusitis', 'substance-related mental disorder', 'postpartum depression', 'coronary atherosclerosis', 'spondylitis', 'pituitary adenoma', 'uterine fibroids', 'idiopathic nonmenstrual bleeding', 'chalazion', 'ovarian torsion', 'retinopathy due to high blood pressure', 'vaginal yeast infection', 'mastoiditis', 'lung contusion', 'hypertrophic obstructive cardiomyopathy (hocm)', 'ingrown toe nail', 'pulmonary eosinophilia', 'corneal disorder', 'foreign body in the gastrointestinal tract', 'endophthalmitis', 'intestinal malabsorption', 'viral warts', 'hyperhidrosis', 'stroke', 'pilonidal cyst', 'crushing injury', 'normal pressure hydrocephalus', 'alopecia', 'hashimoto thyroiditis', 'flat feet', 'nonalcoholic liver disease (nash)', 'hemarthrosis', 'pelvic organ prolapse', 'fracture of the arm', 'coagulation (bleeding) disorder', 'intracranial hemorrhage', 'hyperkalemia', 'cornea infection', 'abscess of the lung', 'dengue fever', 'chronic sinusitis', 'cholesteatoma', 'volvulus', 'injury to the finger', 'poisoning due to analgesics', 'atrial fibrillation', 'pinworm infection', 'urethral valves', 'open wound of the neck', 'achalasia', 'conductive hearing loss', 'abdominal hernia', 'cerebral palsy', 'marijuana abuse', 'cryptococcosis', 'obesity', 'indigestion', 'bursitis', 'esophageal cancer', 'pulmonary congestion', 'juvenile rheumatoid arthritis', 'actinic keratosis', 'acute otitis media', 'astigmatism', 'tuberous sclerosis', 'empyema', 'presbyacusis', 'neonatal jaundice', 'chronic obstructive pulmonary disease (copd)', 'dislocation of the elbow', 'spondylosis', 'herpangina', 'injury to the shoulder', 'poisoning due to antidepressants', 'infection of open wound', 'deep vein thrombosis (dvt)', 'protein deficiency', 'myoclonus', 'bone spur of the calcaneous', 'von willebrand disease', 'open wound of the back', 'heart block', 'colonic polyp', 'magnesium deficiency', 'female infertility of unknown cause', 'pericarditis', 'attention deficit hyperactivity disorder (adhd)', 'pulmonic valve disease', 'tietze syndrome', 'cranial nerve palsy', 'injury to the arm', 'conversion disorder', 'complex regional pain syndrome', 'otosclerosis', 'injury to the trunk', 'hypothyroidism', 'primary insomnia', 'lice', 'vitamin b12 deficiency', 'diabetes', 'vulvodynia', 'endometriosis', 'vasculitis', 'concussion', 'oral leukoplakia', 'chronic kidney disease', 'bladder disorder', 'chorioretinitis', 'priapism', 'myositis', 'mononucleosis', 'neuralgia', 'polycystic kidney disease', 'bipolar disorder', 'amyloidosis', 'chronic inflammatory demyelinating polyneuropathy (cidp)', 'gastroesophageal reflux disease (gerd)', 'vitreous hemorrhage', 'poisoning due to antimicrobial drugs', 'open wound of the mouth', 'scleroderma', 'myasthenia gravis', 'hypoglycemia', 'idiopathic absence of menstruation', 'dislocation of the ankle', 'carbon monoxide poisoning', 'panic attack', 'plantar fasciitis', 'hyperopia', 'poisoning due to sedatives', 'pemphigus', 'peyronie disease', 'hiatal hernia', 'extrapyramidal effect of drugs', 'meniere disease', 'anal fissure', 'allergy', 'chronic otitis media', 'fracture of the finger', 'hirschsprung disease', 'polymyalgia rheumatica', 'lymphedema', 'bladder cancer', 'acute bronchospasm', 'acute glaucoma', 'open wound of the chest', 'dislocation of the patella', 'sciatica', 'hypercalcemia', 'stress incontinence', 'varicose veins', 'benign kidney cyst', 'hydrocele of the testicle', 'degenerative disc disease', 'hirsutism', 'dislocation of the foot', 'hydronephrosis', 'diverticulosis', 'pain after an operation', 'huntington disease', 'lymphoma', 'dermatitis due to sun exposure', 'anemia due to chronic kidney disease', 'injury to internal organ', 'scleritis', 'pterygium', 'fungal infection of the skin', 'insulin overdose', 'syndrome of inappropriate secretion of adh (siadh)', 'foreign body in the ear', 'premenstrual tension syndrome', 'orbital cellulitis', 'injury to the leg', 'hepatic encephalopathy', 'bone cancer', 'syringomyelia', 'pulmonary fibrosis', 'mitral valve disease', 'parkinson disease', 'gout', 'otitis media', 'drug abuse (opioids)', 'myelodysplastic syndrome', 'fracture of the shoulder', 'acute kidney injury', 'threatened pregnancy', 'intracranial abscess', 'gum disease', 'open wound from surgical incision', 'gastrointestinal hemorrhage', 'seborrheic dermatitis', 'drug abuse (methamphetamine)', 'torticollis', 'poisoning due to antihypertensives', 'tension headache', 'alcohol intoxication', 'scurvy', 'narcolepsy', 'food allergy', 'labyrinthitis', 'anxiety', 'impulse control disorder', 'stenosis of the tear duct', 'abscess of nose', 'omphalitis', 'leukemia', 'bell palsy', 'conjunctivitis due to allergy', 'drug reaction', 'adrenal cancer', 'myopia', 'osteoarthritis', 'thyroid disease', 'pharyngitis', 'chronic rheumatic fever', 'hypocalcemia', 'macular degeneration', 'pneumonia', 'cold sore', 'premature ventricular contractions (pvcs)', 'testicular cancer', 'hydrocephalus', 'breast cancer', 'anemia due to malignancy', 'esophageal varices', 'endometrial cancer', 'cystic fibrosis', 'intertrigo (skin condition)', 'parathyroid adenoma', 'glucocorticoid deficiency', 'temporomandibular joint disorder', 'wilson disease', 'vesicoureteral reflux', 'vitamin a deficiency', 'gonorrhea', 'fracture of the rib', 'ependymoma', 'hepatitis due to a toxin', 'vaginal cyst', 'open wound of the shoulder', 'ectopic pregnancy', 'chronic knee pain', 'pinguecula', 'hypergammaglobulinemia', 'alcohol abuse', 'carpal tunnel syndrome', 'pituitary disorder', 'kidney stone', 'autism', 'cat scratch disease', 'chronic glaucoma', 'retinal detachment', 'aplastic anemia', 'overflow incontinence', 'hemolytic anemia', 'lateral epicondylitis (tennis elbow)', 'open wound of the eye', 'syphilis', 'diabetic kidney disease', 'nose disorder', 'drug withdrawal', 'dental caries', 'hypercholesterolemia', 'fracture of the patella', 'kidney failure', 'fracture of the neck', 'muscle spasm', 'hemophilia', 'hyperosmotic hyperketotic state', 'peritonsillar abscess', 'gastroparesis', 'itching of unknown cause', 'polycythemia vera', 'thrombocytopenia', 'head and neck cancer', 'pseudohypoparathyroidism', 'goiter', 'urge incontinence', 'edward syndrome', 'open wound of the arm', 'muscular dystrophy', 'mittelschmerz', 'corneal abrasion', 'anemia of chronic disease', 'dysthymic disorder', 'scarlet fever', 'hypertensive heart disease', 'drug abuse (barbiturates)', 'polycystic ovarian syndrome (pcos)', 'encephalitis', 'cyst of the eyelid', 'balanitis', 'foreign body in the throat', 'drug abuse (cocaine)', 'optic neuritis', 'alcohol withdrawal', 'premature atrial contractions (pacs)', 'hemiplegia', 'hammer toe', 'open wound of the cheek', 'joint effusion', 'open wound of the knee', 'meningioma', 'brain cancer', 'placental abruption', 'seasonal allergies (hay fever)', 'lung cancer', 'primary kidney disease', 'uterine cancer', 'dry eye of unknown cause', 'fibrocystic breast disease', 'fungal infection of the hair', 'tooth abscess', 'envenomation from spider or animal bite', 'vacterl syndrome', 'vertebrobasilar insufficiency', 'rectal disorder', 'atonic bladder', 'benign paroxysmal positional vertical (bppv)', 'blepharospasm', 'sarcoidosis', 'metastatic cancer', 'trigger finger (finger disorder)', 'stye', 'hemochromatosis', 'osteochondroma', 'cushing syndrome', 'typhoid fever', 'vitreous degeneration', 'atrophic skin condition', 'aspergillosis', 'uterine atony', 'trichinosis', 'whooping cough', 'open wound of the lip', 'subacute thyroiditis', 'oral mucosal lesion', 'open wound due to trauma', 'intracerebral hemorrhage', 'alzheimer disease', 'vaginismus', 'systemic lupus erythematosis (sle)', 'premature ovarian failure', 'thoracic outlet syndrome', 'ganglion cyst', 'dislocation of the knee', 'crohn disease', 'postoperative infection', 'folate deficiency', 'fluid overload', 'atrial flutter', 'skin disorder', 'floaters', 'tooth disorder', 'heart attack', 'open wound of the abdomen', 'fracture of the leg', 'oral thrush (yeast infection)', 'pityriasis rosea', 'allergy to animals', 'orthostatic hypotension', 'obstructive sleep apnea (osa)', 'hypokalemia', 'psoriasis', 'dislocation of the shoulder', 'intussusception', 'cervicitis', 'abscess of the pharynx', 'primary thrombocythemia', 'arthritis of the hip', 'decubitus ulcer', 'hypernatremia', 'sensorineural hearing loss', 'chronic ulcer', 'osteoporosis', 'ileus', 'sickle cell crisis', 'urethritis', 'prostatitis', \"otitis externa (swimmer's ear)\", 'poisoning due to anticonvulsants', 'testicular torsion', 'tricuspid valve disease', 'urethral stricture', 'vitamin d deficiency', 'hydatidiform mole', 'pain disorder affecting the neck', 'tuberculosis', 'pelvic fistula', 'acute bronchiolitis', 'presbyopia', 'dementia', 'insect bite', 'paroxysmal ventricular tachycardia', 'congenital heart defect', 'connective tissue disorder', 'foreign body in the eye', 'poisoning due to gas', 'pyogenic skin infection', 'endometrial hyperplasia', 'acanthosis nigricans', 'central atherosclerosis', 'viral exanthem', 'noninfectious gastroenteritis', 'benign prostatic hyperplasia (bph)', 'menopause', 'primary immunodeficiency', 'ovarian cancer', 'cataract', 'dislocation of the hip', 'spinal stenosis', 'intestinal obstruction', 'heart contusion', 'congenital malformation syndrome', 'sporotrichosis', 'lymphangitis', 'wernicke korsakoff syndrome', 'intestinal disease', 'acute bronchitis', 'persistent vomiting of unknown cause', 'open wound of the foot', 'myocarditis', 'preeclampsia', 'ischemic heart disease', 'neurofibromatosis', 'chickenpox', 'pancreatic cancer', 'neuropathy due to drugs', 'croup', 'idiopathic excessive menstruation', 'amblyopia', 'meckel diverticulum', 'dislocation of the wrist', 'ear drum damage', 'erectile dysfunction', 'temporary or benign blood in urine', 'kidney disease due to longstanding hypertension', 'chondromalacia of the patella', 'onychomycosis', 'urethral disorder', 'lyme disease', 'iron deficiency anemia', 'acute respiratory distress syndrome (ards)', 'toxic multinodular goiter', 'open wound of the finger', 'autonomic nervous system disorder', 'psychosexual disorder', 'anemia', 'tendinitis', 'common cold', 'amyotrophic lateral sclerosis (als)', 'central retinal artery or vein occlusion', 'paroxysmal supraventricular tachycardia', 'venous insufficiency', 'trichomonas infection', 'acne', 'depression', 'drug abuse', 'urinary tract obstruction', 'diabetes insipidus', 'iridocyclitis', 'varicocele of the testicles', 'irritable bowel syndrome', 'fracture of the foot', 'ovarian cyst', 'chlamydia', 'parasitic disease', 'fracture of the jaw', 'lipoma', 'female genitalia infection', 'pulmonary hypertension', 'thyroid nodule', 'broken tooth', 'dumping syndrome', 'lymphadenitis', 'injury to the face', 'aortic valve disease', 'rheumatoid arthritis', 'spermatocele', 'impetigo', 'anal fistula', 'hypothermia', 'oppositional disorder', 'migraine', 'diabetic peripheral neuropathy', 'testicular disorder', 'gestational diabetes', 'hidradenitis suppurativa', 'valley fever', 'conjunctivitis due to bacteria', 'lewy body dementia', 'multiple myeloma', 'head injury', 'ascending cholangitis', 'idiopathic irregular menstrual cycle', 'interstitial lung disease', 'mononeuritis', 'malaria', 'somatization disorder', 'hypovolemia', 'schizophrenia', 'knee ligament or meniscus tear', 'endocarditis', 'sepsis', 'heat stroke', 'cholecystitis', 'cardiac arrest', 'cardiomyopathy', 'social phobia', 'meningitis', 'spherocytosis', 'hormone disorder', 'raynaud disease', 'reactive arthritis', 'scabies', 'ear wax impaction', 'hypertension of pregnancy', 'peripheral arterial embolism', 'rosacea', 'fracture of the skull', 'uveitis', 'fracture of the facial bones', 'tracheitis', 'jaw disorder', 'perirectal infection', 'breast cyst', 'post-traumatic stress disorder (ptsd)', 'kidney cancer', 'vulvar cancer', 'blepharitis', 'celiac disease', 'cystitis', 'sickle cell anemia', 'subconjunctival hemorrhage', 'hemorrhoids', 'contact dermatitis', 'sinus bradycardia', 'high blood pressure', 'pelvic inflammatory disease', 'liver disease', 'chronic constipation', 'thyroid cancer', 'flu', 'friedrich ataxia', 'tic (movement) disorder', 'skin polyp', 'brachial neuritis', 'cervical cancer', 'adrenal adenoma', 'esophagitis', 'gas gangrene', 'yeast infection', 'spina bifida', 'drug poisoning due to medication', 'alcoholic liver disease', 'malignant hypertension', 'diverticulitis', 'moyamoya disease', 'heat exhaustion', 'psychotic disorder', 'frostbite', 'atrophy of the corpus cavernosum', 'smoking or tobacco addiction', 'sprain or strain', 'essential tremor', 'open wound of the ear', 'foreign body in the nose', 'idiopathic painful menstruation', 'down syndrome', 'idiopathic infrequent menstruation', 'pneumothorax', 'de quervain disease', 'fracture of the vertebra', 'human immunodeficiency virus infection (hiv)', 'mumps', 'subarachnoid hemorrhage', 'acute fatty liver of pregnancy (aflp)', 'ectropion', 'scar', 'lactose intolerance', 'eustachian tube dysfunction (ear disorder)', 'appendicitis', 'graves disease', 'dissociative disorder', 'open wound of the face', 'dislocation of the vertebra', 'phimosis', 'hyperemesis gravidarum', 'pregnancy', 'thalassemia', 'placenta previa', 'epidural hemorrhage', 'septic arthritis', \"athlete's foot\", 'pleural effusion', 'aphakia', 'vulvar disorder', 'sialoadenitis', 'gynecomastia', 'urinary tract infection', 'histoplasmosis', 'erythema multiforme', 'scoliosis', 'bunion', 'arrhythmia', 'trigeminal neuralgia', 'ankylosing spondylitis', 'peripheral nerve disorder', 'sebaceous cyst', 'poisoning due to antipsychotics', 'neurosis', 'prostate cancer', 'cerebral edema', 'dislocation of the finger', 'birth trauma', 'chronic pancreatitis', 'hematoma', 'carcinoid syndrome', 'open wound of the head', 'seborrheic keratosis', 'burn', 'spontaneous abortion', 'genital herpes', 'adjustment reaction', 'gallstone', 'multiple sclerosis', 'zenker diverticulum', 'fracture of the pelvis', 'pneumoconiosis', 'hyperlipidemia', 'ulcerative colitis', 'male genitalia infection', 'hpv', 'angina', 'injury to the spinal cord', 'nasal polyp', 'lichen simplex', 'trichiasis', 'acariasis', 'colorectal cancer', 'skin pigmentation disorder', 'factitious disorder', 'lymphogranuloma venereum', 'galactorrhea of unknown cause', 'g6pd enzyme deficiency', 'nerve impingement near the shoulder', 'toxoplasmosis', 'fibroadenoma', 'open wound of the hand', 'missed abortion', 'diabetic ketoacidosis', 'granuloma inguinale', 'obsessive compulsive disorder (ocd)', 'injury of the ankle', 'hyponatremia', 'stricture of the esophagus', 'fracture of the ankle', 'soft tissue sarcoma', 'bone disorder', 'epilepsy', 'personality disorder', 'shingles (herpes zoster)', 'tourette syndrome', 'avascular necrosis', 'strep throat', 'spinocerebellar ataxia', 'osteomyelitis', 'sjogren syndrome', 'adhesive capsulitis of the shoulder', 'viral hepatitis', 'tonsillar hypertrophy', 'gastritis', 'skin cancer', 'rheumatic fever', 'aphthous ulcer', 'tonsillitis', 'intestinal cancer', 'rocky mountain spotted fever', 'stomach cancer', 'developmental disability', 'acute stress reaction', 'delirium', 'callus', 'guillain barre syndrome', 'lumbago', 'deviated nasal septum', 'hemangioma', 'peripheral arterial disease', 'chronic back pain', 'heart failure', 'conjunctivitis', 'herniated disk', 'rhabdomyolysis', 'breast infection (mastitis)', 'abdominal aortic aneurysm', 'pulmonary embolism', 'conduct disorder', 'mastectomy', 'epididymitis', 'premature rupture of amniotic membrane', 'molluscum contagiosum', 'necrotizing fasciitis', 'benign vaginal discharge (leukorrhea)', 'bladder obstruction', 'melanoma', 'cervical disorder', 'laryngitis', 'dyshidrosis', 'poisoning due to opioids', 'diaper rash', 'lichen planus', 'gastroduodenal ulcer', 'inguinal hernia', 'eczema', 'asperger syndrome', 'mucositis', 'paronychia', 'open wound of the jaw', 'white blood cell disease', 'kaposi sarcoma', 'spondylolisthesis', 'pseudotumor cerebri', 'conjunctivitis due to virus', 'open wound of the nose']\n"
          ]
        }
      ],
      "source": [
        "diseases =df['diseases'].unique().tolist()\n",
        "print(diseases)"
      ]
    },
    {
      "cell_type": "code",
      "execution_count": null,
      "metadata": {
        "colab": {
          "base_uri": "https://localhost:8080/"
        },
        "id": "58s5dgbobggv",
        "outputId": "f5b773fa-ca2c-468f-d121-58c9b4552682"
      },
      "outputs": [
        {
          "name": "stdout",
          "output_type": "stream",
          "text": [
            "Index(['diseases', 'anxiety and nervousness', 'depression',\n",
            "       'shortness of breath', 'depressive or psychotic symptoms',\n",
            "       'sharp chest pain', 'dizziness', 'insomnia',\n",
            "       'abnormal involuntary movements', 'chest tightness',\n",
            "       ...\n",
            "       'stuttering or stammering', 'problems with orgasm', 'nose deformity',\n",
            "       'lump over jaw', 'sore in nose', 'hip weakness', 'back swelling',\n",
            "       'ankle stiffness or tightness', 'ankle weakness', 'neck weakness'],\n",
            "      dtype='object', length=378)\n"
          ]
        }
      ],
      "source": [
        "print(df.columns)"
      ]
    },
    {
      "cell_type": "code",
      "execution_count": null,
      "metadata": {
        "id": "uVRAcyISbu7h"
      },
      "outputs": [],
      "source": [
        "import math\n",
        "diseases= sorted(df['diseases'].unique())\n",
        "cols =5\n",
        "rows = math.ceil(len(diseases) / cols)"
      ]
    },
    {
      "cell_type": "code",
      "execution_count": null,
      "metadata": {
        "id": "AIxsg4uucNO0"
      },
      "outputs": [],
      "source": [
        "diseases +=[''] * (rows * cols -len(diseases))"
      ]
    },
    {
      "cell_type": "code",
      "execution_count": null,
      "metadata": {
        "id": "fa9-kMEkceoV"
      },
      "outputs": [],
      "source": [
        "disease_table = pd.DataFrame([diseases[i * cols:(i + 1) * cols] for i in range(rows)])"
      ]
    },
    {
      "cell_type": "code",
      "execution_count": null,
      "metadata": {
        "colab": {
          "base_uri": "https://localhost:8080/"
        },
        "id": "QhbzSoRvctwb",
        "outputId": "5072c5eb-2d94-44dc-fdf6-935f7943759a"
      },
      "outputs": [
        {
          "name": "stdout",
          "output_type": "stream",
          "text": [
            "                             0                                    1  \\\n",
            "0    abdominal aortic aneurysm                     abdominal hernia   \n",
            "1         acanthosis nigricans                            acariasis   \n",
            "2          acute bronchiolitis                     acute bronchitis   \n",
            "3          acute kidney injury                   acute otitis media   \n",
            "4        acute stress reaction  adhesive capsulitis of the shoulder   \n",
            "..                         ...                                  ...   \n",
            "150       venous insufficiency        vertebrobasilar insufficiency   \n",
            "151                viral warts                 vitamin a deficiency   \n",
            "152        vitreous hemorrhage                     vocal cord polyp   \n",
            "153            vulvar disorder                           vulvodynia   \n",
            "154             wilson disease                      yeast infection   \n",
            "\n",
            "                               2                                           3  \\\n",
            "0                abscess of nose                         abscess of the lung   \n",
            "1                      achalasia                                        acne   \n",
            "2             acute bronchospasm       acute fatty liver of pregnancy (aflp)   \n",
            "3             acute pancreatitis  acute respiratory distress syndrome (ards)   \n",
            "4            adjustment reaction                             adrenal adenoma   \n",
            "..                           ...                                         ...   \n",
            "150        vesicoureteral reflux                              viral exanthem   \n",
            "151       vitamin b12 deficiency                        vitamin d deficiency   \n",
            "152                     volvulus                      von willebrand disease   \n",
            "153  wernicke korsakoff syndrome                    white blood cell disease   \n",
            "154          zenker diverticulum                                               \n",
            "\n",
            "                          4  \n",
            "0    abscess of the pharynx  \n",
            "1         actinic keratosis  \n",
            "2            acute glaucoma  \n",
            "3           acute sinusitis  \n",
            "4            adrenal cancer  \n",
            "..                      ...  \n",
            "150         viral hepatitis  \n",
            "151   vitreous degeneration  \n",
            "152           vulvar cancer  \n",
            "153          whooping cough  \n",
            "154                          \n",
            "\n",
            "[155 rows x 5 columns]\n"
          ]
        }
      ],
      "source": [
        "print(disease_table)"
      ]
    },
    {
      "cell_type": "code",
      "execution_count": null,
      "metadata": {
        "id": "1CI5i0U2cxTW"
      },
      "outputs": [],
      "source": [
        "from sklearn.preprocessing import LabelEncoder\n",
        "from sklearn.model_selection import train_test_split\n",
        "from sklearn.model_selection import GroupKFold\n",
        "import numpy as np"
      ]
    },
    {
      "cell_type": "code",
      "execution_count": null,
      "metadata": {
        "id": "RwlGLBq_DUse"
      },
      "outputs": [],
      "source": [
        "# Step 1: Encode 'diseases' column into numerical labels\n",
        "label_encoder = LabelEncoder()\n",
        "df['disease_encoded'] = label_encoder.fit_transform(df['diseases'])"
      ]
    },
    {
      "cell_type": "code",
      "execution_count": null,
      "metadata": {
        "id": "teIa78P3Dq7Z"
      },
      "outputs": [],
      "source": [
        "# Step 2: Separate features (X) and target (y)\n",
        "X = df.drop(columns=['diseases', 'disease_encoded'])  # symptom columns\n",
        "y = df['disease_encoded']"
      ]
    },
    {
      "cell_type": "code",
      "execution_count": null,
      "metadata": {
        "id": "EBHNdDMUHHk7"
      },
      "outputs": [],
      "source": [
        "# Create groups for diseases (assuming diseases repeat contiguously)\n",
        "groups = df.groupby('diseases').ngroup().values"
      ]
    },
    {
      "cell_type": "code",
      "execution_count": null,
      "metadata": {
        "id": "NRWZ_CEdHMxr"
      },
      "outputs": [],
      "source": [
        "# Step 3: Split using GroupKFold with a single split for train/test\n",
        "gkf = GroupKFold(n_splits=5)  # Single split for train/test"
      ]
    },
    {
      "cell_type": "code",
      "execution_count": null,
      "metadata": {
        "id": "1H3dVWQ2ELQz"
      },
      "outputs": [],
      "source": [
        "# Step 4: Split temp into validation and test (15% each)\n",
        "# Check for classes with only one sample\n",
        "unique_classes, class_counts = np.unique(y_temp, return_counts=True)\n",
        "classes_with_one_sample = unique_classes[class_counts == 1]\n",
        "\n",
        "# Remove classes with only one sample from y_temp and X_temp\n",
        "if len(classes_with_one_sample) > 0:\n",
        "    mask = ~np.isin(y_temp, classes_with_one_sample)\n",
        "    X_temp = X_temp[mask]\n",
        "    y_temp = y_temp[mask]\n",
        "\n",
        "# Now perform the train_test_split\n",
        "X_val, X_test, y_val, y_test = train_test_split(\n",
        "    X_temp, y_temp, test_size=0.50, random_state=42, stratify=y_temp)"
      ]
    },
    {
      "cell_type": "code",
      "execution_count": null,
      "metadata": {
        "colab": {
          "base_uri": "https://localhost:8080/"
        },
        "id": "TlKn2XynEhGt",
        "outputId": "e549af3b-c0be-4ea1-b817-361845b8e20e"
      },
      "outputs": [
        {
          "name": "stdout",
          "output_type": "stream",
          "text": [
            "Train set shape: (172861, 377)\n",
            "Test set shape: (37024, 377)\n"
          ]
        }
      ],
      "source": [
        "#Optional: Check dimensions\n",
        "print(\"Train set shape:\", X_train.shape)\n",
        "print(\"Test set shape:\", X_test.shape)"
      ]
    },
    {
      "cell_type": "code",
      "execution_count": null,
      "metadata": {
        "id": "2HPwcDPWExkq"
      },
      "outputs": [],
      "source": [
        "# Step 5: Print sizes and percentages\n",
        "total = len(df)"
      ]
    },
    {
      "cell_type": "code",
      "execution_count": null,
      "metadata": {
        "colab": {
          "base_uri": "https://localhost:8080/"
        },
        "id": "mjEX_mWlIyee",
        "outputId": "31828a43-b68b-49ee-d395-f5ef6ec96dd6"
      },
      "outputs": [
        {
          "name": "stdout",
          "output_type": "stream",
          "text": [
            "\n",
            "📊 Total samples: 246945\n",
            "🟩 Training set   : 172861 samples (70.00%)\n",
            "🟨 Validation set : 37023 samples (14.99%)\n",
            "🟥 Test set       : 37024 samples (14.99%)\n"
          ]
        }
      ],
      "source": [
        "print(f\"\\n📊 Total samples: {total}\")\n",
        "print(f\"🟩 Training set   : {len(X_train)} samples ({len(X_train)/total:.2%})\")\n",
        "print(f\"🟨 Validation set : {len(X_val)} samples ({len(X_val)/total:.2%})\")\n",
        "print(f\"🟥 Test set       : {len(X_test)} samples ({len(X_test)/total:.2%})\")"
      ]
    },
    {
      "cell_type": "code",
      "execution_count": null,
      "metadata": {
        "colab": {
          "base_uri": "https://localhost:8080/"
        },
        "id": "EcK8OfriI3g1",
        "outputId": "03073f12-1654-41d8-a453-22825c5252c0"
      },
      "outputs": [
        {
          "name": "stdout",
          "output_type": "stream",
          "text": [
            "Collecting tensorflow\n",
            "  Downloading tensorflow-2.19.0-cp311-cp311-manylinux_2_17_x86_64.manylinux2014_x86_64.whl.metadata (4.1 kB)\n",
            "Requirement already satisfied: absl-py>=1.0.0 in /usr/local/lib/python3.11/dist-packages (from tensorflow) (1.4.0)\n",
            "Collecting astunparse>=1.6.0 (from tensorflow)\n",
            "  Downloading astunparse-1.6.3-py2.py3-none-any.whl.metadata (4.4 kB)\n",
            "Collecting flatbuffers>=24.3.25 (from tensorflow)\n",
            "  Downloading flatbuffers-25.2.10-py2.py3-none-any.whl.metadata (875 bytes)\n",
            "Requirement already satisfied: gast!=0.5.0,!=0.5.1,!=0.5.2,>=0.2.1 in /usr/local/lib/python3.11/dist-packages (from tensorflow) (0.6.0)\n",
            "Collecting google-pasta>=0.1.1 (from tensorflow)\n",
            "  Downloading google_pasta-0.2.0-py3-none-any.whl.metadata (814 bytes)\n",
            "Collecting libclang>=13.0.0 (from tensorflow)\n",
            "  Downloading libclang-18.1.1-py2.py3-none-manylinux2010_x86_64.whl.metadata (5.2 kB)\n",
            "Requirement already satisfied: opt-einsum>=2.3.2 in /usr/local/lib/python3.11/dist-packages (from tensorflow) (3.4.0)\n",
            "Requirement already satisfied: packaging in /usr/local/lib/python3.11/dist-packages (from tensorflow) (24.2)\n",
            "Requirement already satisfied: protobuf!=4.21.0,!=4.21.1,!=4.21.2,!=4.21.3,!=4.21.4,!=4.21.5,<6.0.0dev,>=3.20.3 in /usr/local/lib/python3.11/dist-packages (from tensorflow) (5.29.4)\n",
            "Requirement already satisfied: requests<3,>=2.21.0 in /usr/local/lib/python3.11/dist-packages (from tensorflow) (2.32.3)\n",
            "Requirement already satisfied: setuptools in /usr/local/lib/python3.11/dist-packages (from tensorflow) (75.2.0)\n",
            "Requirement already satisfied: six>=1.12.0 in /usr/local/lib/python3.11/dist-packages (from tensorflow) (1.17.0)\n",
            "Requirement already satisfied: termcolor>=1.1.0 in /usr/local/lib/python3.11/dist-packages (from tensorflow) (3.0.1)\n",
            "Requirement already satisfied: typing-extensions>=3.6.6 in /usr/local/lib/python3.11/dist-packages (from tensorflow) (4.13.1)\n",
            "Requirement already satisfied: wrapt>=1.11.0 in /usr/local/lib/python3.11/dist-packages (from tensorflow) (1.17.2)\n",
            "Requirement already satisfied: grpcio<2.0,>=1.24.3 in /usr/local/lib/python3.11/dist-packages (from tensorflow) (1.71.0)\n",
            "Collecting tensorboard~=2.19.0 (from tensorflow)\n",
            "  Downloading tensorboard-2.19.0-py3-none-any.whl.metadata (1.8 kB)\n",
            "Requirement already satisfied: keras>=3.5.0 in /usr/local/lib/python3.11/dist-packages (from tensorflow) (3.8.0)\n",
            "Requirement already satisfied: numpy<2.2.0,>=1.26.0 in /usr/local/lib/python3.11/dist-packages (from tensorflow) (2.0.2)\n",
            "Requirement already satisfied: h5py>=3.11.0 in /usr/local/lib/python3.11/dist-packages (from tensorflow) (3.13.0)\n",
            "Requirement already satisfied: ml-dtypes<1.0.0,>=0.5.1 in /usr/local/lib/python3.11/dist-packages (from tensorflow) (0.5.1)\n",
            "Collecting tensorflow-io-gcs-filesystem>=0.23.1 (from tensorflow)\n",
            "  Downloading tensorflow_io_gcs_filesystem-0.37.1-cp311-cp311-manylinux_2_17_x86_64.manylinux2014_x86_64.whl.metadata (14 kB)\n",
            "Collecting wheel<1.0,>=0.23.0 (from astunparse>=1.6.0->tensorflow)\n",
            "  Downloading wheel-0.45.1-py3-none-any.whl.metadata (2.3 kB)\n",
            "Requirement already satisfied: rich in /usr/local/lib/python3.11/dist-packages (from keras>=3.5.0->tensorflow) (14.0.0)\n",
            "Requirement already satisfied: namex in /usr/local/lib/python3.11/dist-packages (from keras>=3.5.0->tensorflow) (0.0.8)\n",
            "Requirement already satisfied: optree in /usr/local/lib/python3.11/dist-packages (from keras>=3.5.0->tensorflow) (0.15.0)\n",
            "Requirement already satisfied: charset-normalizer<4,>=2 in /usr/local/lib/python3.11/dist-packages (from requests<3,>=2.21.0->tensorflow) (3.4.1)\n",
            "Requirement already satisfied: idna<4,>=2.5 in /usr/local/lib/python3.11/dist-packages (from requests<3,>=2.21.0->tensorflow) (3.10)\n",
            "Requirement already satisfied: urllib3<3,>=1.21.1 in /usr/local/lib/python3.11/dist-packages (from requests<3,>=2.21.0->tensorflow) (2.3.0)\n",
            "Requirement already satisfied: certifi>=2017.4.17 in /usr/local/lib/python3.11/dist-packages (from requests<3,>=2.21.0->tensorflow) (2025.1.31)\n",
            "Requirement already satisfied: markdown>=2.6.8 in /usr/lib/python3/dist-packages (from tensorboard~=2.19.0->tensorflow) (3.3.6)\n",
            "Collecting tensorboard-data-server<0.8.0,>=0.7.0 (from tensorboard~=2.19.0->tensorflow)\n",
            "  Downloading tensorboard_data_server-0.7.2-py3-none-manylinux_2_31_x86_64.whl.metadata (1.1 kB)\n",
            "Collecting werkzeug>=1.0.1 (from tensorboard~=2.19.0->tensorflow)\n",
            "  Downloading werkzeug-3.1.3-py3-none-any.whl.metadata (3.7 kB)\n",
            "Requirement already satisfied: MarkupSafe>=2.1.1 in /usr/local/lib/python3.11/dist-packages (from werkzeug>=1.0.1->tensorboard~=2.19.0->tensorflow) (3.0.2)\n",
            "Requirement already satisfied: markdown-it-py>=2.2.0 in /usr/local/lib/python3.11/dist-packages (from rich->keras>=3.5.0->tensorflow) (3.0.0)\n",
            "Requirement already satisfied: pygments<3.0.0,>=2.13.0 in /usr/local/lib/python3.11/dist-packages (from rich->keras>=3.5.0->tensorflow) (2.19.1)\n",
            "Requirement already satisfied: mdurl~=0.1 in /usr/local/lib/python3.11/dist-packages (from markdown-it-py>=2.2.0->rich->keras>=3.5.0->tensorflow) (0.1.2)\n",
            "Downloading tensorflow-2.19.0-cp311-cp311-manylinux_2_17_x86_64.manylinux2014_x86_64.whl (644.9 MB)\n",
            "\u001b[2K   \u001b[90m━━━━━━━━━━━━━━━━━━━━━━━━━━━━━━━━━━━━━━━━\u001b[0m \u001b[32m644.9/644.9 MB\u001b[0m \u001b[31m1.5 MB/s\u001b[0m eta \u001b[36m0:00:00\u001b[0m\n",
            "\u001b[?25hDownloading astunparse-1.6.3-py2.py3-none-any.whl (12 kB)\n",
            "Downloading flatbuffers-25.2.10-py2.py3-none-any.whl (30 kB)\n",
            "Downloading google_pasta-0.2.0-py3-none-any.whl (57 kB)\n",
            "\u001b[2K   \u001b[90m━━━━━━━━━━━━━━━━━━━━━━━━━━━━━━━━━━━━━━━━\u001b[0m \u001b[32m57.5/57.5 kB\u001b[0m \u001b[31m3.7 MB/s\u001b[0m eta \u001b[36m0:00:00\u001b[0m\n",
            "\u001b[?25hDownloading libclang-18.1.1-py2.py3-none-manylinux2010_x86_64.whl (24.5 MB)\n",
            "\u001b[2K   \u001b[90m━━━━━━━━━━━━━━━━━━━━━━━━━━━━━━━━━━━━━━━━\u001b[0m \u001b[32m24.5/24.5 MB\u001b[0m \u001b[31m68.3 MB/s\u001b[0m eta \u001b[36m0:00:00\u001b[0m\n",
            "\u001b[?25hDownloading tensorboard-2.19.0-py3-none-any.whl (5.5 MB)\n",
            "\u001b[2K   \u001b[90m━━━━━━━━━━━━━━━━━━━━━━━━━━━━━━━━━━━━━━━━\u001b[0m \u001b[32m5.5/5.5 MB\u001b[0m \u001b[31m92.5 MB/s\u001b[0m eta \u001b[36m0:00:00\u001b[0m\n",
            "\u001b[?25hDownloading tensorflow_io_gcs_filesystem-0.37.1-cp311-cp311-manylinux_2_17_x86_64.manylinux2014_x86_64.whl (5.1 MB)\n",
            "\u001b[2K   \u001b[90m━━━━━━━━━━━━━━━━━━━━━━━━━━━━━━━━━━━━━━━━\u001b[0m \u001b[32m5.1/5.1 MB\u001b[0m \u001b[31m95.4 MB/s\u001b[0m eta \u001b[36m0:00:00\u001b[0m\n",
            "\u001b[?25hDownloading tensorboard_data_server-0.7.2-py3-none-manylinux_2_31_x86_64.whl (6.6 MB)\n",
            "\u001b[2K   \u001b[90m━━━━━━━━━━━━━━━━━━━━━━━━━━━━━━━━━━━━━━━━\u001b[0m \u001b[32m6.6/6.6 MB\u001b[0m \u001b[31m101.8 MB/s\u001b[0m eta \u001b[36m0:00:00\u001b[0m\n",
            "\u001b[?25hDownloading werkzeug-3.1.3-py3-none-any.whl (224 kB)\n",
            "\u001b[2K   \u001b[90m━━━━━━━━━━━━━━━━━━━━━━━━━━━━━━━━━━━━━━━━\u001b[0m \u001b[32m224.5/224.5 kB\u001b[0m \u001b[31m13.9 MB/s\u001b[0m eta \u001b[36m0:00:00\u001b[0m\n",
            "\u001b[?25hDownloading wheel-0.45.1-py3-none-any.whl (72 kB)\n",
            "\u001b[2K   \u001b[90m━━━━━━━━━━━━━━━━━━━━━━━━━━━━━━━━━━━━━━━━\u001b[0m \u001b[32m72.5/72.5 kB\u001b[0m \u001b[31m4.0 MB/s\u001b[0m eta \u001b[36m0:00:00\u001b[0m\n",
            "\u001b[?25hInstalling collected packages: libclang, flatbuffers, wheel, werkzeug, tensorflow-io-gcs-filesystem, tensorboard-data-server, google-pasta, tensorboard, astunparse, tensorflow\n",
            "Successfully installed astunparse-1.6.3 flatbuffers-25.2.10 google-pasta-0.2.0 libclang-18.1.1 tensorboard-2.19.0 tensorboard-data-server-0.7.2 tensorflow-2.19.0 tensorflow-io-gcs-filesystem-0.37.1 werkzeug-3.1.3 wheel-0.45.1\n"
          ]
        },
        {
          "name": "stderr",
          "output_type": "stream",
          "text": [
            "/usr/local/lib/python3.11/dist-packages/keras/src/layers/core/dense.py:87: UserWarning: Do not pass an `input_shape`/`input_dim` argument to a layer. When using Sequential models, prefer using an `Input(shape)` object as the first layer in the model instead.\n",
            "  super().__init__(activity_regularizer=activity_regularizer, **kwargs)\n"
          ]
        },
        {
          "name": "stdout",
          "output_type": "stream",
          "text": [
            "Epoch 1/20\n",
            "\u001b[1m2701/2701\u001b[0m \u001b[32m━━━━━━━━━━━━━━━━━━━━\u001b[0m\u001b[37m\u001b[0m \u001b[1m17s\u001b[0m 6ms/step - accuracy: 0.4705 - loss: 2.6495 - val_accuracy: 0.8375 - val_loss: 0.4772\n",
            "Epoch 2/20\n",
            "\u001b[1m2701/2701\u001b[0m \u001b[32m━━━━━━━━━━━━━━━━━━━━\u001b[0m\u001b[37m\u001b[0m \u001b[1m16s\u001b[0m 6ms/step - accuracy: 0.7995 - loss: 0.6275 - val_accuracy: 0.8479 - val_loss: 0.4037\n",
            "Epoch 3/20\n",
            "\u001b[1m2701/2701\u001b[0m \u001b[32m━━━━━━━━━━━━━━━━━━━━\u001b[0m\u001b[37m\u001b[0m \u001b[1m16s\u001b[0m 6ms/step - accuracy: 0.8218 - loss: 0.5325 - val_accuracy: 0.8505 - val_loss: 0.3909\n",
            "Epoch 4/20\n",
            "\u001b[1m2701/2701\u001b[0m \u001b[32m━━━━━━━━━━━━━━━━━━━━\u001b[0m\u001b[37m\u001b[0m \u001b[1m16s\u001b[0m 6ms/step - accuracy: 0.8287 - loss: 0.4988 - val_accuracy: 0.8499 - val_loss: 0.3840\n",
            "Epoch 5/20\n",
            "\u001b[1m2701/2701\u001b[0m \u001b[32m━━━━━━━━━━━━━━━━━━━━\u001b[0m\u001b[37m\u001b[0m \u001b[1m16s\u001b[0m 6ms/step - accuracy: 0.8342 - loss: 0.4737 - val_accuracy: 0.8553 - val_loss: 0.3738\n",
            "Epoch 6/20\n",
            "\u001b[1m2701/2701\u001b[0m \u001b[32m━━━━━━━━━━━━━━━━━━━━\u001b[0m\u001b[37m\u001b[0m \u001b[1m16s\u001b[0m 6ms/step - accuracy: 0.8385 - loss: 0.4587 - val_accuracy: 0.8541 - val_loss: 0.3722\n",
            "Epoch 7/20\n",
            "\u001b[1m2701/2701\u001b[0m \u001b[32m━━━━━━━━━━━━━━━━━━━━\u001b[0m\u001b[37m\u001b[0m \u001b[1m16s\u001b[0m 6ms/step - accuracy: 0.8424 - loss: 0.4432 - val_accuracy: 0.8545 - val_loss: 0.3698\n",
            "Epoch 8/20\n",
            "\u001b[1m2701/2701\u001b[0m \u001b[32m━━━━━━━━━━━━━━━━━━━━\u001b[0m\u001b[37m\u001b[0m \u001b[1m16s\u001b[0m 6ms/step - accuracy: 0.8435 - loss: 0.4340 - val_accuracy: 0.8558 - val_loss: 0.3661\n",
            "Epoch 9/20\n",
            "\u001b[1m2701/2701\u001b[0m \u001b[32m━━━━━━━━━━━━━━━━━━━━\u001b[0m\u001b[37m\u001b[0m \u001b[1m15s\u001b[0m 6ms/step - accuracy: 0.8473 - loss: 0.4218 - val_accuracy: 0.8579 - val_loss: 0.3609\n",
            "Epoch 10/20\n",
            "\u001b[1m2701/2701\u001b[0m \u001b[32m━━━━━━━━━━━━━━━━━━━━\u001b[0m\u001b[37m\u001b[0m \u001b[1m17s\u001b[0m 6ms/step - accuracy: 0.8486 - loss: 0.4151 - val_accuracy: 0.8547 - val_loss: 0.3622\n",
            "Epoch 11/20\n",
            "\u001b[1m2701/2701\u001b[0m \u001b[32m━━━━━━━━━━━━━━━━━━━━\u001b[0m\u001b[37m\u001b[0m \u001b[1m15s\u001b[0m 6ms/step - accuracy: 0.8494 - loss: 0.4118 - val_accuracy: 0.8573 - val_loss: 0.3605\n",
            "Epoch 12/20\n",
            "\u001b[1m2701/2701\u001b[0m \u001b[32m━━━━━━━━━━━━━━━━━━━━\u001b[0m\u001b[37m\u001b[0m \u001b[1m16s\u001b[0m 6ms/step - accuracy: 0.8480 - loss: 0.4123 - val_accuracy: 0.8556 - val_loss: 0.3603\n",
            "Epoch 13/20\n",
            "\u001b[1m2701/2701\u001b[0m \u001b[32m━━━━━━━━━━━━━━━━━━━━\u001b[0m\u001b[37m\u001b[0m \u001b[1m15s\u001b[0m 6ms/step - accuracy: 0.8515 - loss: 0.4010 - val_accuracy: 0.8575 - val_loss: 0.3579\n",
            "Epoch 14/20\n",
            "\u001b[1m2701/2701\u001b[0m \u001b[32m━━━━━━━━━━━━━━━━━━━━\u001b[0m\u001b[37m\u001b[0m \u001b[1m16s\u001b[0m 6ms/step - accuracy: 0.8523 - loss: 0.3963 - val_accuracy: 0.8574 - val_loss: 0.3589\n",
            "Epoch 15/20\n",
            "\u001b[1m2701/2701\u001b[0m \u001b[32m━━━━━━━━━━━━━━━━━━━━\u001b[0m\u001b[37m\u001b[0m \u001b[1m16s\u001b[0m 6ms/step - accuracy: 0.8516 - loss: 0.3979 - val_accuracy: 0.8566 - val_loss: 0.3564\n",
            "Epoch 16/20\n",
            "\u001b[1m2701/2701\u001b[0m \u001b[32m━━━━━━━━━━━━━━━━━━━━\u001b[0m\u001b[37m\u001b[0m \u001b[1m16s\u001b[0m 6ms/step - accuracy: 0.8515 - loss: 0.3937 - val_accuracy: 0.8590 - val_loss: 0.3546\n",
            "Epoch 17/20\n",
            "\u001b[1m2701/2701\u001b[0m \u001b[32m━━━━━━━━━━━━━━━━━━━━\u001b[0m\u001b[37m\u001b[0m \u001b[1m16s\u001b[0m 6ms/step - accuracy: 0.8545 - loss: 0.3876 - val_accuracy: 0.8568 - val_loss: 0.3543\n",
            "Epoch 18/20\n",
            "\u001b[1m2701/2701\u001b[0m \u001b[32m━━━━━━━━━━━━━━━━━━━━\u001b[0m\u001b[37m\u001b[0m \u001b[1m16s\u001b[0m 6ms/step - accuracy: 0.8551 - loss: 0.3850 - val_accuracy: 0.8557 - val_loss: 0.3522\n",
            "Epoch 19/20\n",
            "\u001b[1m2701/2701\u001b[0m \u001b[32m━━━━━━━━━━━━━━━━━━━━\u001b[0m\u001b[37m\u001b[0m \u001b[1m15s\u001b[0m 6ms/step - accuracy: 0.8579 - loss: 0.3778 - val_accuracy: 0.8585 - val_loss: 0.3500\n",
            "Epoch 20/20\n",
            "\u001b[1m2701/2701\u001b[0m \u001b[32m━━━━━━━━━━━━━━━━━━━━\u001b[0m\u001b[37m\u001b[0m \u001b[1m15s\u001b[0m 6ms/step - accuracy: 0.8572 - loss: 0.3775 - val_accuracy: 0.8577 - val_loss: 0.3539\n"
          ]
        }
      ],
      "source": [
        "!pip install tensorflow\n",
        "import tensorflow as tf\n",
        "from tensorflow.keras.models import Sequential\n",
        "from tensorflow.keras.layers import Dense, Dropout\n",
        "from tensorflow.keras.callbacks import EarlyStopping\n",
        "\n",
        "# Get input shape and number of output classes\n",
        "input_dim = X_train.shape[1]\n",
        "num_classes = len(label_encoder.classes_)\n",
        "\n",
        "# Build the model\n",
        "model = Sequential([\n",
        "    Dense(256, activation='relu', input_shape=(input_dim,)),\n",
        "    Dropout(0.3),\n",
        "    Dense(128, activation='relu'),\n",
        "    Dropout(0.2),\n",
        "    Dense(num_classes, activation='softmax')  # Softmax for multi-class classification\n",
        "])\n",
        "\n",
        "# Compile the model\n",
        "model.compile(optimizer='adam',\n",
        "              loss='sparse_categorical_crossentropy',\n",
        "              metrics=['accuracy'])\n",
        "\n",
        "# Early stopping to prevent overfitting\n",
        "early_stop = EarlyStopping(monitor='val_loss', patience=3, restore_best_weights=True)\n",
        "\n",
        "# Train the model\n",
        "history = model.fit(\n",
        "    X_train, y_train,\n",
        "    validation_data=(X_val, y_val),\n",
        "    epochs=20,\n",
        "    batch_size=64,\n",
        "    callbacks=[early_stop],\n",
        "    verbose=1\n",
        ")\n"
      ]
    },
    {
      "cell_type": "code",
      "execution_count": null,
      "metadata": {
        "colab": {
          "base_uri": "https://localhost:8080/",
          "height": 323
        },
        "id": "YeMPC5fMJXgD",
        "outputId": "569a832c-b275-4b1e-95ad-f1275ca301c1"
      },
      "outputs": [
        {
          "data": {
            "text/html": [
              "<pre style=\"white-space:pre;overflow-x:auto;line-height:normal;font-family:Menlo,'DejaVu Sans Mono',consolas,'Courier New',monospace\"><span style=\"font-weight: bold\">Model: \"sequential\"</span>\n",
              "</pre>\n"
            ],
            "text/plain": [
              "\u001b[1mModel: \"sequential\"\u001b[0m\n"
            ]
          },
          "metadata": {},
          "output_type": "display_data"
        },
        {
          "data": {
            "text/html": [
              "<pre style=\"white-space:pre;overflow-x:auto;line-height:normal;font-family:Menlo,'DejaVu Sans Mono',consolas,'Courier New',monospace\">┏━━━━━━━━━━━━━━━━━━━━━━━━━━━━━━━━━┳━━━━━━━━━━━━━━━━━━━━━━━━┳━━━━━━━━━━━━━━━┓\n",
              "┃<span style=\"font-weight: bold\"> Layer (type)                    </span>┃<span style=\"font-weight: bold\"> Output Shape           </span>┃<span style=\"font-weight: bold\">       Param # </span>┃\n",
              "┡━━━━━━━━━━━━━━━━━━━━━━━━━━━━━━━━━╇━━━━━━━━━━━━━━━━━━━━━━━━╇━━━━━━━━━━━━━━━┩\n",
              "│ dense (<span style=\"color: #0087ff; text-decoration-color: #0087ff\">Dense</span>)                   │ (<span style=\"color: #00d7ff; text-decoration-color: #00d7ff\">None</span>, <span style=\"color: #00af00; text-decoration-color: #00af00\">256</span>)            │        <span style=\"color: #00af00; text-decoration-color: #00af00\">96,768</span> │\n",
              "├─────────────────────────────────┼────────────────────────┼───────────────┤\n",
              "│ dropout (<span style=\"color: #0087ff; text-decoration-color: #0087ff\">Dropout</span>)               │ (<span style=\"color: #00d7ff; text-decoration-color: #00d7ff\">None</span>, <span style=\"color: #00af00; text-decoration-color: #00af00\">256</span>)            │             <span style=\"color: #00af00; text-decoration-color: #00af00\">0</span> │\n",
              "├─────────────────────────────────┼────────────────────────┼───────────────┤\n",
              "│ dense_1 (<span style=\"color: #0087ff; text-decoration-color: #0087ff\">Dense</span>)                 │ (<span style=\"color: #00d7ff; text-decoration-color: #00d7ff\">None</span>, <span style=\"color: #00af00; text-decoration-color: #00af00\">128</span>)            │        <span style=\"color: #00af00; text-decoration-color: #00af00\">32,896</span> │\n",
              "├─────────────────────────────────┼────────────────────────┼───────────────┤\n",
              "│ dropout_1 (<span style=\"color: #0087ff; text-decoration-color: #0087ff\">Dropout</span>)             │ (<span style=\"color: #00d7ff; text-decoration-color: #00d7ff\">None</span>, <span style=\"color: #00af00; text-decoration-color: #00af00\">128</span>)            │             <span style=\"color: #00af00; text-decoration-color: #00af00\">0</span> │\n",
              "├─────────────────────────────────┼────────────────────────┼───────────────┤\n",
              "│ dense_2 (<span style=\"color: #0087ff; text-decoration-color: #0087ff\">Dense</span>)                 │ (<span style=\"color: #00d7ff; text-decoration-color: #00d7ff\">None</span>, <span style=\"color: #00af00; text-decoration-color: #00af00\">773</span>)            │        <span style=\"color: #00af00; text-decoration-color: #00af00\">99,717</span> │\n",
              "└─────────────────────────────────┴────────────────────────┴───────────────┘\n",
              "</pre>\n"
            ],
            "text/plain": [
              "┏━━━━━━━━━━━━━━━━━━━━━━━━━━━━━━━━━┳━━━━━━━━━━━━━━━━━━━━━━━━┳━━━━━━━━━━━━━━━┓\n",
              "┃\u001b[1m \u001b[0m\u001b[1mLayer (type)                   \u001b[0m\u001b[1m \u001b[0m┃\u001b[1m \u001b[0m\u001b[1mOutput Shape          \u001b[0m\u001b[1m \u001b[0m┃\u001b[1m \u001b[0m\u001b[1m      Param #\u001b[0m\u001b[1m \u001b[0m┃\n",
              "┡━━━━━━━━━━━━━━━━━━━━━━━━━━━━━━━━━╇━━━━━━━━━━━━━━━━━━━━━━━━╇━━━━━━━━━━━━━━━┩\n",
              "│ dense (\u001b[38;5;33mDense\u001b[0m)                   │ (\u001b[38;5;45mNone\u001b[0m, \u001b[38;5;34m256\u001b[0m)            │        \u001b[38;5;34m96,768\u001b[0m │\n",
              "├─────────────────────────────────┼────────────────────────┼───────────────┤\n",
              "│ dropout (\u001b[38;5;33mDropout\u001b[0m)               │ (\u001b[38;5;45mNone\u001b[0m, \u001b[38;5;34m256\u001b[0m)            │             \u001b[38;5;34m0\u001b[0m │\n",
              "├─────────────────────────────────┼────────────────────────┼───────────────┤\n",
              "│ dense_1 (\u001b[38;5;33mDense\u001b[0m)                 │ (\u001b[38;5;45mNone\u001b[0m, \u001b[38;5;34m128\u001b[0m)            │        \u001b[38;5;34m32,896\u001b[0m │\n",
              "├─────────────────────────────────┼────────────────────────┼───────────────┤\n",
              "│ dropout_1 (\u001b[38;5;33mDropout\u001b[0m)             │ (\u001b[38;5;45mNone\u001b[0m, \u001b[38;5;34m128\u001b[0m)            │             \u001b[38;5;34m0\u001b[0m │\n",
              "├─────────────────────────────────┼────────────────────────┼───────────────┤\n",
              "│ dense_2 (\u001b[38;5;33mDense\u001b[0m)                 │ (\u001b[38;5;45mNone\u001b[0m, \u001b[38;5;34m773\u001b[0m)            │        \u001b[38;5;34m99,717\u001b[0m │\n",
              "└─────────────────────────────────┴────────────────────────┴───────────────┘\n"
            ]
          },
          "metadata": {},
          "output_type": "display_data"
        },
        {
          "data": {
            "text/html": [
              "<pre style=\"white-space:pre;overflow-x:auto;line-height:normal;font-family:Menlo,'DejaVu Sans Mono',consolas,'Courier New',monospace\"><span style=\"font-weight: bold\"> Total params: </span><span style=\"color: #00af00; text-decoration-color: #00af00\">688,145</span> (2.63 MB)\n",
              "</pre>\n"
            ],
            "text/plain": [
              "\u001b[1m Total params: \u001b[0m\u001b[38;5;34m688,145\u001b[0m (2.63 MB)\n"
            ]
          },
          "metadata": {},
          "output_type": "display_data"
        },
        {
          "data": {
            "text/html": [
              "<pre style=\"white-space:pre;overflow-x:auto;line-height:normal;font-family:Menlo,'DejaVu Sans Mono',consolas,'Courier New',monospace\"><span style=\"font-weight: bold\"> Trainable params: </span><span style=\"color: #00af00; text-decoration-color: #00af00\">229,381</span> (896.02 KB)\n",
              "</pre>\n"
            ],
            "text/plain": [
              "\u001b[1m Trainable params: \u001b[0m\u001b[38;5;34m229,381\u001b[0m (896.02 KB)\n"
            ]
          },
          "metadata": {},
          "output_type": "display_data"
        },
        {
          "data": {
            "text/html": [
              "<pre style=\"white-space:pre;overflow-x:auto;line-height:normal;font-family:Menlo,'DejaVu Sans Mono',consolas,'Courier New',monospace\"><span style=\"font-weight: bold\"> Non-trainable params: </span><span style=\"color: #00af00; text-decoration-color: #00af00\">0</span> (0.00 B)\n",
              "</pre>\n"
            ],
            "text/plain": [
              "\u001b[1m Non-trainable params: \u001b[0m\u001b[38;5;34m0\u001b[0m (0.00 B)\n"
            ]
          },
          "metadata": {},
          "output_type": "display_data"
        },
        {
          "data": {
            "text/html": [
              "<pre style=\"white-space:pre;overflow-x:auto;line-height:normal;font-family:Menlo,'DejaVu Sans Mono',consolas,'Courier New',monospace\"><span style=\"font-weight: bold\"> Optimizer params: </span><span style=\"color: #00af00; text-decoration-color: #00af00\">458,764</span> (1.75 MB)\n",
              "</pre>\n"
            ],
            "text/plain": [
              "\u001b[1m Optimizer params: \u001b[0m\u001b[38;5;34m458,764\u001b[0m (1.75 MB)\n"
            ]
          },
          "metadata": {},
          "output_type": "display_data"
        }
      ],
      "source": [
        "model.summary()"
      ]
    },
    {
      "cell_type": "code",
      "execution_count": null,
      "metadata": {
        "colab": {
          "base_uri": "https://localhost:8080/"
        },
        "id": "_T4wQenrKQxG",
        "outputId": "56ccec60-03ad-4c4e-d09b-45ee96cd690e"
      },
      "outputs": [
        {
          "name": "stdout",
          "output_type": "stream",
          "text": [
            "\n",
            "✅ Final Test Accuracy: 0.8634\n"
          ]
        }
      ],
      "source": [
        "# Evaluate on test set\n",
        "test_loss, test_acc = model.evaluate(X_test, y_test, verbose=0)\n",
        "print(f\"\\n✅ Final Test Accuracy: {test_acc:.4f}\")\n"
      ]
    },
    {
      "cell_type": "code",
      "execution_count": null,
      "metadata": {
        "colab": {
          "base_uri": "https://localhost:8080/",
          "height": 997
        },
        "id": "wGJDaCuQLTZq",
        "outputId": "9555fbe9-3b59-4fea-f385-2821005b7a05"
      },
      "outputs": [
        {
          "data": {
            "image/png": "[encoded data removed]",
            "text/plain": [
              "<Figure size 800x500 with 1 Axes>"
            ]
          },
          "metadata": {},
          "output_type": "display_data"
        },
        {
          "data": {
            "image/png": "[encoded data removed]",
            "text/plain": [
              "<Figure size 800x500 with 1 Axes>"
            ]
          },
          "metadata": {},
          "output_type": "display_data"
        }
      ],
      "source": [
        "import matplotlib.pyplot as plt\n",
        "\n",
        "# Get number of actual epochs\n",
        "epochs_ran = range(1, len(history.history['accuracy']) + 1)\n",
        "\n",
        "# Accuracy plot\n",
        "plt.figure(figsize=(8, 5))\n",
        "plt.plot(epochs_ran, history.history['accuracy'], label='Train Accuracy')\n",
        "plt.plot(epochs_ran, history.history['val_accuracy'], label='Validation Accuracy')\n",
        "plt.title(\"Model Accuracy Over Epochs\")\n",
        "plt.xlabel(\"Epoch\")\n",
        "plt.ylabel(\"Accuracy\")\n",
        "plt.legend()\n",
        "plt.grid(True)\n",
        "plt.tight_layout()\n",
        "plt.show()\n",
        "\n",
        "# Loss plot\n",
        "plt.figure(figsize=(8, 5))\n",
        "plt.plot(epochs_ran, history.history['loss'], label='Train Loss')\n",
        "plt.plot(epochs_ran, history.history['val_loss'], label='Validation Loss')\n",
        "plt.title(\"Model Loss Over Epochs\")\n",
        "plt.xlabel(\"Epoch\")\n",
        "plt.ylabel(\"Loss\")\n",
        "plt.legend()\n",
        "plt.grid(True)\n",
        "plt.tight_layout()\n",
        "plt.show()"
      ]
    },
    {
      "cell_type": "code",
      "execution_count": null,
      "metadata": {
        "id": "fUvNnWB8LXtO"
      },
      "outputs": [],
      "source": []
    }
  ],
  "metadata": {
    "accelerator": "TPU",
    "colab": {
      "gpuType": "V28",
      "provenance": []
    },
    "kernelspec": {
      "display_name": "Python 3",
      "name": "python3"
    },
    "language_info": {
      "codemirror_mode": {
        "name": "ipython",
        "version": 3
      },
      "file_extension": ".py",
      "mimetype": "text/x-python",
      "name": "python",
      "nbconvert_exporter": "python",
      "pygments_lexer": "ipython3",
      "version": "3.10.9"
    }
  },
  "nbformat": 4,
  "nbformat_minor": 0
}
